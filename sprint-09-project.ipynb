{
 "cells": [
  {
   "cell_type": "markdown",
   "metadata": {},
   "source": [
    "# Sprint 9: Machine Learning in Business #"
   ]
  },
  {
   "cell_type": "markdown",
   "metadata": {},
   "source": [
    "# Preliminaries #"
   ]
  },
  {
   "cell_type": "code",
   "execution_count": 1,
   "metadata": {},
   "outputs": [],
   "source": [
    "# Load libraries\n",
    "\n",
    "import pandas as pd\n",
    "import numpy as np\n",
    "from matplotlib import pyplot as plt\n",
    "\n",
    "from sklearn.model_selection import train_test_split\n",
    "from sklearn.preprocessing import StandardScaler\n",
    "from sklearn.linear_model import LinearRegression\n",
    "from sklearn.metrics import mean_squared_error"
   ]
  },
  {
   "cell_type": "code",
   "execution_count": 2,
   "metadata": {},
   "outputs": [],
   "source": [
    "# Load data\n",
    "\n",
    "df_geo_0 = pd.read_csv('/datasets/geo_data_0.csv')\n",
    "df_geo_1 = pd.read_csv('/datasets/geo_data_1.csv')\n",
    "df_geo_2 = pd.read_csv('/datasets/geo_data_2.csv')"
   ]
  },
  {
   "cell_type": "markdown",
   "metadata": {},
   "source": [
    "The purpose of this project is to create a model for the OilyGiant mining company to predict which region will have the most lucrative wells. I will examine the data, train a model, estimate profit margins with bootstrapping, and make a final recommendation."
   ]
  },
  {
   "cell_type": "markdown",
   "metadata": {},
   "source": [
    "# Examine the Data #"
   ]
  },
  {
   "cell_type": "code",
   "execution_count": 3,
   "metadata": {},
   "outputs": [
    {
     "name": "stdout",
     "output_type": "stream",
     "text": [
      "<class 'pandas.core.frame.DataFrame'>\n",
      "RangeIndex: 100000 entries, 0 to 99999\n",
      "Data columns (total 5 columns):\n",
      " #   Column   Non-Null Count   Dtype  \n",
      "---  ------   --------------   -----  \n",
      " 0   id       100000 non-null  object \n",
      " 1   f0       100000 non-null  float64\n",
      " 2   f1       100000 non-null  float64\n",
      " 3   f2       100000 non-null  float64\n",
      " 4   product  100000 non-null  float64\n",
      "dtypes: float64(4), object(1)\n",
      "memory usage: 3.8+ MB\n"
     ]
    },
    {
     "data": {
      "text/plain": [
       "None"
      ]
     },
     "metadata": {},
     "output_type": "display_data"
    },
    {
     "data": {
      "text/html": [
       "<div>\n",
       "<style scoped>\n",
       "    .dataframe tbody tr th:only-of-type {\n",
       "        vertical-align: middle;\n",
       "    }\n",
       "\n",
       "    .dataframe tbody tr th {\n",
       "        vertical-align: top;\n",
       "    }\n",
       "\n",
       "    .dataframe thead th {\n",
       "        text-align: right;\n",
       "    }\n",
       "</style>\n",
       "<table border=\"1\" class=\"dataframe\">\n",
       "  <thead>\n",
       "    <tr style=\"text-align: right;\">\n",
       "      <th></th>\n",
       "      <th>id</th>\n",
       "      <th>f0</th>\n",
       "      <th>f1</th>\n",
       "      <th>f2</th>\n",
       "      <th>product</th>\n",
       "    </tr>\n",
       "  </thead>\n",
       "  <tbody>\n",
       "    <tr>\n",
       "      <th>0</th>\n",
       "      <td>txEyH</td>\n",
       "      <td>0.705745</td>\n",
       "      <td>-0.497823</td>\n",
       "      <td>1.221170</td>\n",
       "      <td>105.280062</td>\n",
       "    </tr>\n",
       "    <tr>\n",
       "      <th>1</th>\n",
       "      <td>2acmU</td>\n",
       "      <td>1.334711</td>\n",
       "      <td>-0.340164</td>\n",
       "      <td>4.365080</td>\n",
       "      <td>73.037750</td>\n",
       "    </tr>\n",
       "    <tr>\n",
       "      <th>2</th>\n",
       "      <td>409Wp</td>\n",
       "      <td>1.022732</td>\n",
       "      <td>0.151990</td>\n",
       "      <td>1.419926</td>\n",
       "      <td>85.265647</td>\n",
       "    </tr>\n",
       "    <tr>\n",
       "      <th>3</th>\n",
       "      <td>iJLyR</td>\n",
       "      <td>-0.032172</td>\n",
       "      <td>0.139033</td>\n",
       "      <td>2.978566</td>\n",
       "      <td>168.620776</td>\n",
       "    </tr>\n",
       "    <tr>\n",
       "      <th>4</th>\n",
       "      <td>Xdl7t</td>\n",
       "      <td>1.988431</td>\n",
       "      <td>0.155413</td>\n",
       "      <td>4.751769</td>\n",
       "      <td>154.036647</td>\n",
       "    </tr>\n",
       "    <tr>\n",
       "      <th>...</th>\n",
       "      <td>...</td>\n",
       "      <td>...</td>\n",
       "      <td>...</td>\n",
       "      <td>...</td>\n",
       "      <td>...</td>\n",
       "    </tr>\n",
       "    <tr>\n",
       "      <th>99995</th>\n",
       "      <td>DLsed</td>\n",
       "      <td>0.971957</td>\n",
       "      <td>0.370953</td>\n",
       "      <td>6.075346</td>\n",
       "      <td>110.744026</td>\n",
       "    </tr>\n",
       "    <tr>\n",
       "      <th>99996</th>\n",
       "      <td>QKivN</td>\n",
       "      <td>1.392429</td>\n",
       "      <td>-0.382606</td>\n",
       "      <td>1.273912</td>\n",
       "      <td>122.346843</td>\n",
       "    </tr>\n",
       "    <tr>\n",
       "      <th>99997</th>\n",
       "      <td>3rnvd</td>\n",
       "      <td>1.029585</td>\n",
       "      <td>0.018787</td>\n",
       "      <td>-1.348308</td>\n",
       "      <td>64.375443</td>\n",
       "    </tr>\n",
       "    <tr>\n",
       "      <th>99998</th>\n",
       "      <td>7kl59</td>\n",
       "      <td>0.998163</td>\n",
       "      <td>-0.528582</td>\n",
       "      <td>1.583869</td>\n",
       "      <td>74.040764</td>\n",
       "    </tr>\n",
       "    <tr>\n",
       "      <th>99999</th>\n",
       "      <td>1CWhH</td>\n",
       "      <td>1.764754</td>\n",
       "      <td>-0.266417</td>\n",
       "      <td>5.722849</td>\n",
       "      <td>149.633246</td>\n",
       "    </tr>\n",
       "  </tbody>\n",
       "</table>\n",
       "<p>100000 rows × 5 columns</p>\n",
       "</div>"
      ],
      "text/plain": [
       "          id        f0        f1        f2     product\n",
       "0      txEyH  0.705745 -0.497823  1.221170  105.280062\n",
       "1      2acmU  1.334711 -0.340164  4.365080   73.037750\n",
       "2      409Wp  1.022732  0.151990  1.419926   85.265647\n",
       "3      iJLyR -0.032172  0.139033  2.978566  168.620776\n",
       "4      Xdl7t  1.988431  0.155413  4.751769  154.036647\n",
       "...      ...       ...       ...       ...         ...\n",
       "99995  DLsed  0.971957  0.370953  6.075346  110.744026\n",
       "99996  QKivN  1.392429 -0.382606  1.273912  122.346843\n",
       "99997  3rnvd  1.029585  0.018787 -1.348308   64.375443\n",
       "99998  7kl59  0.998163 -0.528582  1.583869   74.040764\n",
       "99999  1CWhH  1.764754 -0.266417  5.722849  149.633246\n",
       "\n",
       "[100000 rows x 5 columns]"
      ]
     },
     "metadata": {},
     "output_type": "display_data"
    },
    {
     "name": "stdout",
     "output_type": "stream",
     "text": [
      "\n",
      "<class 'pandas.core.frame.DataFrame'>\n",
      "RangeIndex: 100000 entries, 0 to 99999\n",
      "Data columns (total 5 columns):\n",
      " #   Column   Non-Null Count   Dtype  \n",
      "---  ------   --------------   -----  \n",
      " 0   id       100000 non-null  object \n",
      " 1   f0       100000 non-null  float64\n",
      " 2   f1       100000 non-null  float64\n",
      " 3   f2       100000 non-null  float64\n",
      " 4   product  100000 non-null  float64\n",
      "dtypes: float64(4), object(1)\n",
      "memory usage: 3.8+ MB\n"
     ]
    },
    {
     "data": {
      "text/plain": [
       "None"
      ]
     },
     "metadata": {},
     "output_type": "display_data"
    },
    {
     "data": {
      "text/html": [
       "<div>\n",
       "<style scoped>\n",
       "    .dataframe tbody tr th:only-of-type {\n",
       "        vertical-align: middle;\n",
       "    }\n",
       "\n",
       "    .dataframe tbody tr th {\n",
       "        vertical-align: top;\n",
       "    }\n",
       "\n",
       "    .dataframe thead th {\n",
       "        text-align: right;\n",
       "    }\n",
       "</style>\n",
       "<table border=\"1\" class=\"dataframe\">\n",
       "  <thead>\n",
       "    <tr style=\"text-align: right;\">\n",
       "      <th></th>\n",
       "      <th>id</th>\n",
       "      <th>f0</th>\n",
       "      <th>f1</th>\n",
       "      <th>f2</th>\n",
       "      <th>product</th>\n",
       "    </tr>\n",
       "  </thead>\n",
       "  <tbody>\n",
       "    <tr>\n",
       "      <th>0</th>\n",
       "      <td>kBEdx</td>\n",
       "      <td>-15.001348</td>\n",
       "      <td>-8.276000</td>\n",
       "      <td>-0.005876</td>\n",
       "      <td>3.179103</td>\n",
       "    </tr>\n",
       "    <tr>\n",
       "      <th>1</th>\n",
       "      <td>62mP7</td>\n",
       "      <td>14.272088</td>\n",
       "      <td>-3.475083</td>\n",
       "      <td>0.999183</td>\n",
       "      <td>26.953261</td>\n",
       "    </tr>\n",
       "    <tr>\n",
       "      <th>2</th>\n",
       "      <td>vyE1P</td>\n",
       "      <td>6.263187</td>\n",
       "      <td>-5.948386</td>\n",
       "      <td>5.001160</td>\n",
       "      <td>134.766305</td>\n",
       "    </tr>\n",
       "    <tr>\n",
       "      <th>3</th>\n",
       "      <td>KcrkZ</td>\n",
       "      <td>-13.081196</td>\n",
       "      <td>-11.506057</td>\n",
       "      <td>4.999415</td>\n",
       "      <td>137.945408</td>\n",
       "    </tr>\n",
       "    <tr>\n",
       "      <th>4</th>\n",
       "      <td>AHL4O</td>\n",
       "      <td>12.702195</td>\n",
       "      <td>-8.147433</td>\n",
       "      <td>5.004363</td>\n",
       "      <td>134.766305</td>\n",
       "    </tr>\n",
       "    <tr>\n",
       "      <th>...</th>\n",
       "      <td>...</td>\n",
       "      <td>...</td>\n",
       "      <td>...</td>\n",
       "      <td>...</td>\n",
       "      <td>...</td>\n",
       "    </tr>\n",
       "    <tr>\n",
       "      <th>99995</th>\n",
       "      <td>QywKC</td>\n",
       "      <td>9.535637</td>\n",
       "      <td>-6.878139</td>\n",
       "      <td>1.998296</td>\n",
       "      <td>53.906522</td>\n",
       "    </tr>\n",
       "    <tr>\n",
       "      <th>99996</th>\n",
       "      <td>ptvty</td>\n",
       "      <td>-10.160631</td>\n",
       "      <td>-12.558096</td>\n",
       "      <td>5.005581</td>\n",
       "      <td>137.945408</td>\n",
       "    </tr>\n",
       "    <tr>\n",
       "      <th>99997</th>\n",
       "      <td>09gWa</td>\n",
       "      <td>-7.378891</td>\n",
       "      <td>-3.084104</td>\n",
       "      <td>4.998651</td>\n",
       "      <td>137.945408</td>\n",
       "    </tr>\n",
       "    <tr>\n",
       "      <th>99998</th>\n",
       "      <td>rqwUm</td>\n",
       "      <td>0.665714</td>\n",
       "      <td>-6.152593</td>\n",
       "      <td>1.000146</td>\n",
       "      <td>30.132364</td>\n",
       "    </tr>\n",
       "    <tr>\n",
       "      <th>99999</th>\n",
       "      <td>relB0</td>\n",
       "      <td>-3.426139</td>\n",
       "      <td>-7.794274</td>\n",
       "      <td>-0.003299</td>\n",
       "      <td>3.179103</td>\n",
       "    </tr>\n",
       "  </tbody>\n",
       "</table>\n",
       "<p>100000 rows × 5 columns</p>\n",
       "</div>"
      ],
      "text/plain": [
       "          id         f0         f1        f2     product\n",
       "0      kBEdx -15.001348  -8.276000 -0.005876    3.179103\n",
       "1      62mP7  14.272088  -3.475083  0.999183   26.953261\n",
       "2      vyE1P   6.263187  -5.948386  5.001160  134.766305\n",
       "3      KcrkZ -13.081196 -11.506057  4.999415  137.945408\n",
       "4      AHL4O  12.702195  -8.147433  5.004363  134.766305\n",
       "...      ...        ...        ...       ...         ...\n",
       "99995  QywKC   9.535637  -6.878139  1.998296   53.906522\n",
       "99996  ptvty -10.160631 -12.558096  5.005581  137.945408\n",
       "99997  09gWa  -7.378891  -3.084104  4.998651  137.945408\n",
       "99998  rqwUm   0.665714  -6.152593  1.000146   30.132364\n",
       "99999  relB0  -3.426139  -7.794274 -0.003299    3.179103\n",
       "\n",
       "[100000 rows x 5 columns]"
      ]
     },
     "metadata": {},
     "output_type": "display_data"
    },
    {
     "name": "stdout",
     "output_type": "stream",
     "text": [
      "\n",
      "<class 'pandas.core.frame.DataFrame'>\n",
      "RangeIndex: 100000 entries, 0 to 99999\n",
      "Data columns (total 5 columns):\n",
      " #   Column   Non-Null Count   Dtype  \n",
      "---  ------   --------------   -----  \n",
      " 0   id       100000 non-null  object \n",
      " 1   f0       100000 non-null  float64\n",
      " 2   f1       100000 non-null  float64\n",
      " 3   f2       100000 non-null  float64\n",
      " 4   product  100000 non-null  float64\n",
      "dtypes: float64(4), object(1)\n",
      "memory usage: 3.8+ MB\n"
     ]
    },
    {
     "data": {
      "text/plain": [
       "None"
      ]
     },
     "metadata": {},
     "output_type": "display_data"
    },
    {
     "data": {
      "text/html": [
       "<div>\n",
       "<style scoped>\n",
       "    .dataframe tbody tr th:only-of-type {\n",
       "        vertical-align: middle;\n",
       "    }\n",
       "\n",
       "    .dataframe tbody tr th {\n",
       "        vertical-align: top;\n",
       "    }\n",
       "\n",
       "    .dataframe thead th {\n",
       "        text-align: right;\n",
       "    }\n",
       "</style>\n",
       "<table border=\"1\" class=\"dataframe\">\n",
       "  <thead>\n",
       "    <tr style=\"text-align: right;\">\n",
       "      <th></th>\n",
       "      <th>id</th>\n",
       "      <th>f0</th>\n",
       "      <th>f1</th>\n",
       "      <th>f2</th>\n",
       "      <th>product</th>\n",
       "    </tr>\n",
       "  </thead>\n",
       "  <tbody>\n",
       "    <tr>\n",
       "      <th>0</th>\n",
       "      <td>fwXo0</td>\n",
       "      <td>-1.146987</td>\n",
       "      <td>0.963328</td>\n",
       "      <td>-0.828965</td>\n",
       "      <td>27.758673</td>\n",
       "    </tr>\n",
       "    <tr>\n",
       "      <th>1</th>\n",
       "      <td>WJtFt</td>\n",
       "      <td>0.262778</td>\n",
       "      <td>0.269839</td>\n",
       "      <td>-2.530187</td>\n",
       "      <td>56.069697</td>\n",
       "    </tr>\n",
       "    <tr>\n",
       "      <th>2</th>\n",
       "      <td>ovLUW</td>\n",
       "      <td>0.194587</td>\n",
       "      <td>0.289035</td>\n",
       "      <td>-5.586433</td>\n",
       "      <td>62.871910</td>\n",
       "    </tr>\n",
       "    <tr>\n",
       "      <th>3</th>\n",
       "      <td>q6cA6</td>\n",
       "      <td>2.236060</td>\n",
       "      <td>-0.553760</td>\n",
       "      <td>0.930038</td>\n",
       "      <td>114.572842</td>\n",
       "    </tr>\n",
       "    <tr>\n",
       "      <th>4</th>\n",
       "      <td>WPMUX</td>\n",
       "      <td>-0.515993</td>\n",
       "      <td>1.716266</td>\n",
       "      <td>5.899011</td>\n",
       "      <td>149.600746</td>\n",
       "    </tr>\n",
       "    <tr>\n",
       "      <th>...</th>\n",
       "      <td>...</td>\n",
       "      <td>...</td>\n",
       "      <td>...</td>\n",
       "      <td>...</td>\n",
       "      <td>...</td>\n",
       "    </tr>\n",
       "    <tr>\n",
       "      <th>99995</th>\n",
       "      <td>4GxBu</td>\n",
       "      <td>-1.777037</td>\n",
       "      <td>1.125220</td>\n",
       "      <td>6.263374</td>\n",
       "      <td>172.327046</td>\n",
       "    </tr>\n",
       "    <tr>\n",
       "      <th>99996</th>\n",
       "      <td>YKFjq</td>\n",
       "      <td>-1.261523</td>\n",
       "      <td>-0.894828</td>\n",
       "      <td>2.524545</td>\n",
       "      <td>138.748846</td>\n",
       "    </tr>\n",
       "    <tr>\n",
       "      <th>99997</th>\n",
       "      <td>tKPY3</td>\n",
       "      <td>-1.199934</td>\n",
       "      <td>-2.957637</td>\n",
       "      <td>5.219411</td>\n",
       "      <td>157.080080</td>\n",
       "    </tr>\n",
       "    <tr>\n",
       "      <th>99998</th>\n",
       "      <td>nmxp2</td>\n",
       "      <td>-2.419896</td>\n",
       "      <td>2.417221</td>\n",
       "      <td>-5.548444</td>\n",
       "      <td>51.795253</td>\n",
       "    </tr>\n",
       "    <tr>\n",
       "      <th>99999</th>\n",
       "      <td>V9kWn</td>\n",
       "      <td>-2.551421</td>\n",
       "      <td>-2.025625</td>\n",
       "      <td>6.090891</td>\n",
       "      <td>102.775767</td>\n",
       "    </tr>\n",
       "  </tbody>\n",
       "</table>\n",
       "<p>100000 rows × 5 columns</p>\n",
       "</div>"
      ],
      "text/plain": [
       "          id        f0        f1        f2     product\n",
       "0      fwXo0 -1.146987  0.963328 -0.828965   27.758673\n",
       "1      WJtFt  0.262778  0.269839 -2.530187   56.069697\n",
       "2      ovLUW  0.194587  0.289035 -5.586433   62.871910\n",
       "3      q6cA6  2.236060 -0.553760  0.930038  114.572842\n",
       "4      WPMUX -0.515993  1.716266  5.899011  149.600746\n",
       "...      ...       ...       ...       ...         ...\n",
       "99995  4GxBu -1.777037  1.125220  6.263374  172.327046\n",
       "99996  YKFjq -1.261523 -0.894828  2.524545  138.748846\n",
       "99997  tKPY3 -1.199934 -2.957637  5.219411  157.080080\n",
       "99998  nmxp2 -2.419896  2.417221 -5.548444   51.795253\n",
       "99999  V9kWn -2.551421 -2.025625  6.090891  102.775767\n",
       "\n",
       "[100000 rows x 5 columns]"
      ]
     },
     "metadata": {},
     "output_type": "display_data"
    },
    {
     "name": "stdout",
     "output_type": "stream",
     "text": [
      "\n"
     ]
    }
   ],
   "source": [
    "# Examine the df_geo_0, df_geo_1, and df_geo_2 dataframes\n",
    "\n",
    "display(df_geo_0.info())\n",
    "display(df_geo_0)\n",
    "print()\n",
    "display(df_geo_1.info())\n",
    "display(df_geo_1)\n",
    "print()\n",
    "display(df_geo_2.info())\n",
    "display(df_geo_2)\n",
    "print()"
   ]
  },
  {
   "cell_type": "code",
   "execution_count": 4,
   "metadata": {},
   "outputs": [],
   "source": [
    "# Create functions to examine columns\n",
    "\n",
    "def histo(df, column):\n",
    "    if (len(df[column].unique()) < 100): bins = len(df[column].unique())\n",
    "    else: bins = 100\n",
    "\n",
    "    display(df[column].describe())\n",
    "    plt.hist(df[column], bins=bins)\n",
    "    plt.xlabel(column)\n",
    "    plt.ylabel('Number of Observations')\n",
    "    plt.title(f'Histogram for {column}')\n",
    "    plt.show()\n",
    "    \n",
    "def examine(df):\n",
    "    display(df['id'].describe())\n",
    "    print()\n",
    "\n",
    "    columns = ['f0', 'f1', 'f2', 'product']\n",
    "    for column in columns:\n",
    "        histo(df, column)\n",
    "        print()"
   ]
  },
  {
   "cell_type": "code",
   "execution_count": 5,
   "metadata": {},
   "outputs": [
    {
     "data": {
      "text/plain": [
       "count     100000\n",
       "unique     99990\n",
       "top        HZww2\n",
       "freq           2\n",
       "Name: id, dtype: object"
      ]
     },
     "metadata": {},
     "output_type": "display_data"
    },
    {
     "name": "stdout",
     "output_type": "stream",
     "text": [
      "\n"
     ]
    },
    {
     "data": {
      "text/plain": [
       "count    100000.000000\n",
       "mean          0.500419\n",
       "std           0.871832\n",
       "min          -1.408605\n",
       "25%          -0.072580\n",
       "50%           0.502360\n",
       "75%           1.073581\n",
       "max           2.362331\n",
       "Name: f0, dtype: float64"
      ]
     },
     "metadata": {},
     "output_type": "display_data"
    },
    {
     "data": {
      "image/png": "[encoded data removed]",
      "text/plain": [
       "<Figure size 640x480 with 1 Axes>"
      ]
     },
     "metadata": {},
     "output_type": "display_data"
    },
    {
     "name": "stdout",
     "output_type": "stream",
     "text": [
      "\n"
     ]
    },
    {
     "data": {
      "text/plain": [
       "count    100000.000000\n",
       "mean          0.250143\n",
       "std           0.504433\n",
       "min          -0.848218\n",
       "25%          -0.200881\n",
       "50%           0.250252\n",
       "75%           0.700646\n",
       "max           1.343769\n",
       "Name: f1, dtype: float64"
      ]
     },
     "metadata": {},
     "output_type": "display_data"
    },
    {
     "data": {
      "image/png": "[encoded data removed]",
      "text/plain": [
       "<Figure size 640x480 with 1 Axes>"
      ]
     },
     "metadata": {},
     "output_type": "display_data"
    },
    {
     "name": "stdout",
     "output_type": "stream",
     "text": [
      "\n"
     ]
    },
    {
     "data": {
      "text/plain": [
       "count    100000.000000\n",
       "mean          2.502647\n",
       "std           3.248248\n",
       "min         -12.088328\n",
       "25%           0.287748\n",
       "50%           2.515969\n",
       "75%           4.715088\n",
       "max          16.003790\n",
       "Name: f2, dtype: float64"
      ]
     },
     "metadata": {},
     "output_type": "display_data"
    },
    {
     "data": {
      "image/png": "[encoded data removed]",
      "text/plain": [
       "<Figure size 640x480 with 1 Axes>"
      ]
     },
     "metadata": {},
     "output_type": "display_data"
    },
    {
     "name": "stdout",
     "output_type": "stream",
     "text": [
      "\n"
     ]
    },
    {
     "data": {
      "text/plain": [
       "count    100000.000000\n",
       "mean         92.500000\n",
       "std          44.288691\n",
       "min           0.000000\n",
       "25%          56.497507\n",
       "50%          91.849972\n",
       "75%         128.564089\n",
       "max         185.364347\n",
       "Name: product, dtype: float64"
      ]
     },
     "metadata": {},
     "output_type": "display_data"
    },
    {
     "data": {
      "image/png": "[encoded data removed]",
      "text/plain": [
       "<Figure size 640x480 with 1 Axes>"
      ]
     },
     "metadata": {},
     "output_type": "display_data"
    },
    {
     "name": "stdout",
     "output_type": "stream",
     "text": [
      "\n"
     ]
    }
   ],
   "source": [
    "# Examine all columns from the df_geo_0 dataframe\n",
    "\n",
    "examine(df_geo_0)"
   ]
  },
  {
   "cell_type": "code",
   "execution_count": 6,
   "metadata": {},
   "outputs": [
    {
     "data": {
      "text/plain": [
       "count     100000\n",
       "unique     99996\n",
       "top        wt4Uk\n",
       "freq           2\n",
       "Name: id, dtype: object"
      ]
     },
     "metadata": {},
     "output_type": "display_data"
    },
    {
     "name": "stdout",
     "output_type": "stream",
     "text": [
      "\n"
     ]
    },
    {
     "data": {
      "text/plain": [
       "count    100000.000000\n",
       "mean          1.141296\n",
       "std           8.965932\n",
       "min         -31.609576\n",
       "25%          -6.298551\n",
       "50%           1.153055\n",
       "75%           8.621015\n",
       "max          29.421755\n",
       "Name: f0, dtype: float64"
      ]
     },
     "metadata": {},
     "output_type": "display_data"
    },
    {
     "data": {
      "image/png": "[encoded data removed]",
      "text/plain": [
       "<Figure size 640x480 with 1 Axes>"
      ]
     },
     "metadata": {},
     "output_type": "display_data"
    },
    {
     "name": "stdout",
     "output_type": "stream",
     "text": [
      "\n"
     ]
    },
    {
     "data": {
      "text/plain": [
       "count    100000.000000\n",
       "mean         -4.796579\n",
       "std           5.119872\n",
       "min         -26.358598\n",
       "25%          -8.267985\n",
       "50%          -4.813172\n",
       "75%          -1.332816\n",
       "max          18.734063\n",
       "Name: f1, dtype: float64"
      ]
     },
     "metadata": {},
     "output_type": "display_data"
    },
    {
     "data": {
      "image/png": "[encoded data removed]",
      "text/plain": [
       "<Figure size 640x480 with 1 Axes>"
      ]
     },
     "metadata": {},
     "output_type": "display_data"
    },
    {
     "name": "stdout",
     "output_type": "stream",
     "text": [
      "\n"
     ]
    },
    {
     "data": {
      "text/plain": [
       "count    100000.000000\n",
       "mean          2.494541\n",
       "std           1.703572\n",
       "min          -0.018144\n",
       "25%           1.000021\n",
       "50%           2.011479\n",
       "75%           3.999904\n",
       "max           5.019721\n",
       "Name: f2, dtype: float64"
      ]
     },
     "metadata": {},
     "output_type": "display_data"
    },
    {
     "data": {
      "image/png": "[encoded data removed]",
      "text/plain": [
       "<Figure size 640x480 with 1 Axes>"
      ]
     },
     "metadata": {},
     "output_type": "display_data"
    },
    {
     "name": "stdout",
     "output_type": "stream",
     "text": [
      "\n"
     ]
    },
    {
     "data": {
      "text/plain": [
       "count    100000.000000\n",
       "mean         68.825000\n",
       "std          45.944423\n",
       "min           0.000000\n",
       "25%          26.953261\n",
       "50%          57.085625\n",
       "75%         107.813044\n",
       "max         137.945408\n",
       "Name: product, dtype: float64"
      ]
     },
     "metadata": {},
     "output_type": "display_data"
    },
    {
     "data": {
      "image/png": "[encoded data removed]",
      "text/plain": [
       "<Figure size 640x480 with 1 Axes>"
      ]
     },
     "metadata": {},
     "output_type": "display_data"
    },
    {
     "name": "stdout",
     "output_type": "stream",
     "text": [
      "\n"
     ]
    }
   ],
   "source": [
    "# Examine all columns from the df_geo_1 dataframe\n",
    "\n",
    "examine(df_geo_1)"
   ]
  },
  {
   "cell_type": "code",
   "execution_count": 7,
   "metadata": {},
   "outputs": [
    {
     "data": {
      "text/plain": [
       "count     100000\n",
       "unique     99996\n",
       "top        KUPhW\n",
       "freq           2\n",
       "Name: id, dtype: object"
      ]
     },
     "metadata": {},
     "output_type": "display_data"
    },
    {
     "name": "stdout",
     "output_type": "stream",
     "text": [
      "\n"
     ]
    },
    {
     "data": {
      "text/plain": [
       "count    100000.000000\n",
       "mean          0.002023\n",
       "std           1.732045\n",
       "min          -8.760004\n",
       "25%          -1.162288\n",
       "50%           0.009424\n",
       "75%           1.158535\n",
       "max           7.238262\n",
       "Name: f0, dtype: float64"
      ]
     },
     "metadata": {},
     "output_type": "display_data"
    },
    {
     "data": {
      "image/png": "[encoded data removed]",
      "text/plain": [
       "<Figure size 640x480 with 1 Axes>"
      ]
     },
     "metadata": {},
     "output_type": "display_data"
    },
    {
     "name": "stdout",
     "output_type": "stream",
     "text": [
      "\n"
     ]
    },
    {
     "data": {
      "text/plain": [
       "count    100000.000000\n",
       "mean         -0.002081\n",
       "std           1.730417\n",
       "min          -7.084020\n",
       "25%          -1.174820\n",
       "50%          -0.009482\n",
       "75%           1.163678\n",
       "max           7.844801\n",
       "Name: f1, dtype: float64"
      ]
     },
     "metadata": {},
     "output_type": "display_data"
    },
    {
     "data": {
      "image/png": "[encoded data removed]",
      "text/plain": [
       "<Figure size 640x480 with 1 Axes>"
      ]
     },
     "metadata": {},
     "output_type": "display_data"
    },
    {
     "name": "stdout",
     "output_type": "stream",
     "text": [
      "\n"
     ]
    },
    {
     "data": {
      "text/plain": [
       "count    100000.000000\n",
       "mean          2.495128\n",
       "std           3.473445\n",
       "min         -11.970335\n",
       "25%           0.130359\n",
       "50%           2.484236\n",
       "75%           4.858794\n",
       "max          16.739402\n",
       "Name: f2, dtype: float64"
      ]
     },
     "metadata": {},
     "output_type": "display_data"
    },
    {
     "data": {
      "image/png": "[encoded data removed]",
      "text/plain": [
       "<Figure size 640x480 with 1 Axes>"
      ]
     },
     "metadata": {},
     "output_type": "display_data"
    },
    {
     "name": "stdout",
     "output_type": "stream",
     "text": [
      "\n"
     ]
    },
    {
     "data": {
      "text/plain": [
       "count    100000.000000\n",
       "mean         95.000000\n",
       "std          44.749921\n",
       "min           0.000000\n",
       "25%          59.450441\n",
       "50%          94.925613\n",
       "75%         130.595027\n",
       "max         190.029838\n",
       "Name: product, dtype: float64"
      ]
     },
     "metadata": {},
     "output_type": "display_data"
    },
    {
     "data": {
      "image/png": "[encoded data removed]",
      "text/plain": [
       "<Figure size 640x480 with 1 Axes>"
      ]
     },
     "metadata": {},
     "output_type": "display_data"
    },
    {
     "name": "stdout",
     "output_type": "stream",
     "text": [
      "\n"
     ]
    }
   ],
   "source": [
    "# Examine all columns from the df_geo_2 dataframe\n",
    "\n",
    "examine(df_geo_2)"
   ]
  },
  {
   "cell_type": "code",
   "execution_count": 8,
   "metadata": {},
   "outputs": [
    {
     "name": "stdout",
     "output_type": "stream",
     "text": [
      "Duplicated values for the id column:\n",
      "Region 0: 10\n",
      "Region 1: 4\n",
      "Region 2: 4\n",
      "\n",
      "Unique values for the id column in region 1:\n",
      "[0.0, 3.179102583207246, 26.95326103153969, 30.132363614746943, 53.90652206307938, 57.08562464628662, 80.85978309461906, 84.03888567782631, 107.81304412615876, 110.992146709366, 134.76630515769844, 137.94540774090564]\n"
     ]
    }
   ],
   "source": [
    "# Examine some columns further\n",
    "\n",
    "print('Duplicated values for the id column:')\n",
    "print('Region 0:', len(df_geo_0['id'])-len(df_geo_0['id'].unique()))\n",
    "print('Region 1:', len(df_geo_1['id'])-len(df_geo_1['id'].unique()))\n",
    "print('Region 2:', len(df_geo_2['id'])-len(df_geo_2['id'].unique()))\n",
    "print()\n",
    "print('Unique values for the id column in region 1:')\n",
    "print(sorted(df_geo_1['product'].unique()))"
   ]
  },
  {
   "cell_type": "code",
   "execution_count": 9,
   "metadata": {},
   "outputs": [
    {
     "name": "stdout",
     "output_type": "stream",
     "text": [
      "f2 for region 1\n"
     ]
    },
    {
     "data": {
      "text/plain": [
       "count    16572.000000\n",
       "mean         0.000010\n",
       "std          0.005017\n",
       "min         -0.018144\n",
       "25%         -0.003380\n",
       "50%         -0.000022\n",
       "75%          0.003385\n",
       "max          0.020273\n",
       "Name: f2, dtype: float64"
      ]
     },
     "metadata": {},
     "output_type": "display_data"
    },
    {
     "data": {
      "image/png": "[encoded data removed]",
      "text/plain": [
       "<Figure size 640x480 with 1 Axes>"
      ]
     },
     "metadata": {},
     "output_type": "display_data"
    },
    {
     "name": "stdout",
     "output_type": "stream",
     "text": [
      "\n",
      "product for region 1\n"
     ]
    },
    {
     "data": {
      "text/plain": [
       "count    16774.000000\n",
       "mean        28.527461\n",
       "std          1.589525\n",
       "min         26.953261\n",
       "25%         26.953261\n",
       "50%         26.953261\n",
       "75%         30.132364\n",
       "max         30.132364\n",
       "Name: product, dtype: float64"
      ]
     },
     "metadata": {},
     "output_type": "display_data"
    },
    {
     "data": {
      "image/png": "[encoded data removed]",
      "text/plain": [
       "<Figure size 640x480 with 1 Axes>"
      ]
     },
     "metadata": {},
     "output_type": "display_data"
    },
    {
     "name": "stdout",
     "output_type": "stream",
     "text": [
      "\n",
      "product for region 0\n"
     ]
    },
    {
     "data": {
      "text/plain": [
       "count    15928.000000\n",
       "mean        35.941660\n",
       "std          8.227367\n",
       "min         20.009467\n",
       "25%         28.993976\n",
       "50%         35.811945\n",
       "75%         42.625620\n",
       "max         49.999998\n",
       "Name: product, dtype: float64"
      ]
     },
     "metadata": {},
     "output_type": "display_data"
    },
    {
     "data": {
      "image/png": "[encoded data removed]",
      "text/plain": [
       "<Figure size 640x480 with 1 Axes>"
      ]
     },
     "metadata": {},
     "output_type": "display_data"
    }
   ],
   "source": [
    "# Examine some columns further with plots\n",
    "\n",
    "print('f2 for region 1')\n",
    "histo(df_geo_1['f2'][df_geo_1['f2'] < 0.5].to_frame(name='f2'), 'f2')\n",
    "print()\n",
    "print('product for region 1')\n",
    "histo(df_geo_1['product'][(df_geo_1['product'] > 25) & (df_geo_1['product'] < 35)].to_frame(name='product'), 'product')\n",
    "print()\n",
    "print('product for region 0')\n",
    "histo(df_geo_0['product'][(df_geo_0['product'] > 20) & (df_geo_0['product'] < 50)].to_frame(name='product'), 'product')"
   ]
  },
  {
   "cell_type": "markdown",
   "metadata": {},
   "source": [
    "The data look good overall. The columns all have the proper data types and no missing data. \n",
    "\n",
    "The id column has some repeat values (10 for region 0 and 4 each for regions 1 and 2). Maybe a few wells were measured multiple times. Without more information, it is unclear whether duplicates should be dropped and if so, which ones should be kept. Since there are so few diplicates (18 out of 30,000), I will just ignore them. \n",
    "\n",
    "About half of the column distributions are approximately normal, but the rest are multi-modal. Column f0 is quadrimodal in region 0 and bimodal in region 1 and column f1 is trimodal in region 0. Column f2 in region 1 is more complex, neither continuous nor simply restricted to a few discrete integers. It is an amalgamation of six relatively normal distributions centered around the integers from 0 to 5 with tight standard deviations of 0.005. These columns may all represent multiple distinct distributions added together. \n",
    "\n",
    "The product columns also depart from normality. It is discrete for region 1 with 12 unique values that start at 3.179 and then alternate between adding 23.774 and 3.179 until the last one at 137.945. The overall shape of the frequencies appears roughly uniform for the 12 values. For regions 0 and 2, the product columns are continuous but strange. They contain eight approximately uniform distributions of varying frequency that run for about 18 units each separated by lower-frequency interludes of about 5 units. Those two distributions approximate normality because the plateaus become less frequent further from the mean. It might be that oil wells are well described by 8-12 types that each have uniform volume for geological reasons. \n",
    "\n",
    "Without more information about these features, I cannot speculate further about their distributions. They are all at least roughly symmetrical and none are plagued by outliers or otherwise particularly skewed, so I think they will be adequate for linear regression. No corrections to the data are needed but I will scale the features and divide the data into test and validation sets. "
   ]
  },
  {
   "cell_type": "markdown",
   "metadata": {},
   "source": [
    "# Prepare the Data #"
   ]
  },
  {
   "cell_type": "code",
   "execution_count": 10,
   "metadata": {
    "scrolled": true
   },
   "outputs": [
    {
     "name": "stdout",
     "output_type": "stream",
     "text": [
      "Dataframe df_geo_0\n",
      "Column f0: mean = 0.00, sd = 1.00\n",
      "Column f1: mean = -0.00, sd = 1.00\n",
      "Column f2: mean = 0.00, sd = 1.00\n",
      "Dataframe df_geo_1\n",
      "Column f0: mean = -0.00, sd = 1.00\n",
      "Column f1: mean = 0.00, sd = 1.00\n",
      "Column f2: mean = 0.00, sd = 1.00\n",
      "Dataframe df_geo_2\n",
      "Column f0: mean = 0.00, sd = 1.00\n",
      "Column f1: mean = -0.00, sd = 1.00\n",
      "Column f2: mean = -0.00, sd = 1.00\n"
     ]
    }
   ],
   "source": [
    "# Standardize f0, f1, and f2 features for df_geo_0, df_geo_1, df_geo_2 dataframes\n",
    "\n",
    "dfs = {'df_geo_0': df_geo_0, 'df_geo_1': df_geo_1, 'df_geo_2': df_geo_2}\n",
    "features = ['f0', 'f1', 'f2']\n",
    "\n",
    "for df in dfs.values():\n",
    "    scaler = StandardScaler()\n",
    "    scaler.fit(df[features])\n",
    "    df[features] = scaler.transform(df[features])\n",
    "    \n",
    "for name, df in dfs.items():\n",
    "    print(f\"Dataframe {name}\")\n",
    "    for feature in features:\n",
    "        print(f\"Column {feature}: mean = {df[feature].mean():.2f}, sd = {np.std(df[feature]):.2f}\")"
   ]
  },
  {
   "cell_type": "code",
   "execution_count": 11,
   "metadata": {},
   "outputs": [
    {
     "name": "stdout",
     "output_type": "stream",
     "text": [
      "Region 0\n",
      "Training set size: 75000, 75%\n",
      "Validation set size: 25000, 25%\n",
      "Region 1\n",
      "Training set size: 75000, 75%\n",
      "Validation set size: 25000, 25%\n",
      "Region 2\n",
      "Training set size: 75000, 75%\n",
      "Validation set size: 25000, 25%\n"
     ]
    }
   ],
   "source": [
    "# Split the data into training, validation, and test sets for each region\n",
    "\n",
    "features_g0 = df_geo_0.drop(['id', 'product'], axis=1)\n",
    "features_g1 = df_geo_1.drop(['id', 'product'], axis=1)\n",
    "features_g2 = df_geo_2.drop(['id', 'product'], axis=1)\n",
    "target_g0 = df_geo_0['product']\n",
    "target_g1 = df_geo_1['product']\n",
    "target_g2 = df_geo_2['product']\n",
    "features_g0_train, features_g0_valid, target_g0_train, target_g0_valid = train_test_split(features_g0, target_g0, test_size=.25, random_state=12345)\n",
    "features_g1_train, features_g1_valid, target_g1_train, target_g1_valid = train_test_split(features_g1, target_g1, test_size=.25, random_state=12345)\n",
    "features_g2_train, features_g2_valid, target_g2_train, target_g2_valid = train_test_split(features_g2, target_g2, test_size=.25, random_state=12345)\n",
    "\n",
    "print('Region 0')\n",
    "print(f\"Training set size: {len(features_g0_train)}, {100*len(features_g0_train)/len(df_geo_0):.0f}%\")\n",
    "print(f\"Validation set size: {len(features_g0_valid)}, {100*len(features_g0_valid)/len(df_geo_0):.0f}%\")\n",
    "print(\"Region 1\")\n",
    "print(f\"Training set size: {len(features_g1_train)}, {100*len(features_g1_train)/len(df_geo_1):.0f}%\")\n",
    "print(f\"Validation set size: {len(features_g1_valid)}, {100*len(features_g1_valid)/len(df_geo_1):.0f}%\")\n",
    "print(\"Region 2\")\n",
    "print(f\"Training set size: {len(features_g2_train)}, {100*len(features_g2_train)/len(df_geo_2):.0f}%\")\n",
    "print(f\"Validation set size: {len(features_g2_valid)}, {100*len(features_g2_valid)/len(df_geo_2):.0f}%\")"
   ]
  },
  {
   "cell_type": "markdown",
   "metadata": {},
   "source": [
    "# Model the Data #"
   ]
  },
  {
   "cell_type": "code",
   "execution_count": 12,
   "metadata": {},
   "outputs": [
    {
     "name": "stdout",
     "output_type": "stream",
     "text": [
      "Linear Regression Model Results\n",
      "Region 0: RMSE = 37.58, R^2 = 0.28\n",
      "Region 1: RMSE = 0.89, R^2 = 1.00\n",
      "Region 2: RMSE = 40.03, R^2 = 0.21\n"
     ]
    }
   ],
   "source": [
    "# Train a linear regression model for each region\n",
    "\n",
    "model_g0 = LinearRegression()\n",
    "model_g0.fit(features_g0_train, target_g0_train)\n",
    "predicted_g0_valid = model_g0.predict(features_g0_valid)\n",
    "rmse_g0 = mean_squared_error(target_g0_valid, predicted_g0_valid) ** 0.5\n",
    "r2_g0 = model_g0.score(features_g0_valid, target_g0_valid)\n",
    "\n",
    "model_g1 = LinearRegression()\n",
    "model_g1.fit(features_g1_train, target_g1_train)\n",
    "predicted_g1_valid = model_g1.predict(features_g1_valid)\n",
    "rmse_g1 = mean_squared_error(target_g1_valid, predicted_g1_valid) ** 0.5\n",
    "r2_g1 = model_g1.score(features_g1_valid, target_g1_valid)\n",
    "\n",
    "model_g2 = LinearRegression()\n",
    "model_g2.fit(features_g2_train, target_g2_train)\n",
    "predicted_g2_valid = model_g2.predict(features_g2_valid)\n",
    "rmse_g2 = mean_squared_error(target_g2_valid, predicted_g2_valid) ** 0.5\n",
    "r2_g2 = model_g2.score(features_g2_valid, target_g2_valid)\n",
    "\n",
    "print('Linear Regression Model Results')\n",
    "print(f\"Region 0: RMSE = {rmse_g0:.2f}, R^2 = {r2_g0:.2f}\")\n",
    "print(f\"Region 1: RMSE = {rmse_g1:.2f}, R^2 = {r2_g1:.2f}\")\n",
    "print(f\"Region 2: RMSE = {rmse_g2:.2f}, R^2 = {r2_g2:.2f}\")"
   ]
  },
  {
   "cell_type": "code",
   "execution_count": 13,
   "metadata": {},
   "outputs": [
    {
     "name": "stdout",
     "output_type": "stream",
     "text": [
      "Average Volume of Predicted Reserves\n",
      "Region 0: 92.59 thousand barrels\n",
      "Region 1: 68.73 thousand barrels\n",
      "Region 2: 94.97 thousand barrels\n"
     ]
    }
   ],
   "source": [
    "# Print the average volume of predicted reserves\n",
    "\n",
    "print('Average Volume of Predicted Reserves')\n",
    "print(f\"Region 0: {predicted_g0_valid.mean():.2f} thousand barrels\") \n",
    "print(f\"Region 1: {predicted_g1_valid.mean():.2f} thousand barrels\") \n",
    "print(f\"Region 2: {predicted_g2_valid.mean():.2f} thousand barrels\") "
   ]
  },
  {
   "cell_type": "markdown",
   "metadata": {},
   "source": [
    "Linear regression models for the three regions showed mixed results. For region 1, the model was nearly perfect (RMSE = 0.89, R^2 = 1). That is probably because its target (the product feature) has an extremely restricted range with only 12 values. It is easier to make precise predictions with so little variation. The models for region 0 (RMSE = 37.58, R^2 = 0.28) and region 2 (RMSE = 40.03, R^2 = 0.21) have small effect sizes that indicate poor performance. The region 0 model is marginally superior to the region 2 model in that respect. \n",
    "\n",
    "In terms of oil well productivity, region 1's predicted reserves (69.59 thousand barrels) are far inferior to those for region 0 (92.59 thousand barrels) and region 2 (94.97 thousand barrels), which are nearly equal. "
   ]
  },
  {
   "cell_type": "markdown",
   "metadata": {},
   "source": [
    "# Calculate Profits #"
   ]
  },
  {
   "cell_type": "code",
   "execution_count": 14,
   "metadata": {},
   "outputs": [
    {
     "name": "stdout",
     "output_type": "stream",
     "text": [
      "revenue per unit = 4500\n",
      "budget per well = 500000.0\n",
      "units needed = 111.11111111111111\n"
     ]
    }
   ],
   "source": [
    "# Prepare for profit calculation\n",
    "\n",
    "total_budget = 100000000\n",
    "number_of_wells = 200\n",
    "revenue_per_unit = 4500\n",
    "budget_per_well = total_budget/number_of_wells\n",
    "units_needed = budget_per_well/revenue_per_unit\n",
    "\n",
    "print('revenue per unit =', revenue_per_unit)\n",
    "print('budget per well =', budget_per_well)\n",
    "print('units needed =', units_needed)"
   ]
  },
  {
   "cell_type": "markdown",
   "metadata": {},
   "source": [
    "The budget for 200 wells is $100 million  \n",
    "\n",
    "$$ \\text{Budget per well} = \\frac{$100 \\, \\text{million}}{200 \\, \\text{wells}} = $500,000 $$  \n",
    "\n",
    "Each unit of product brings \\$4,500 in revenue.  \n",
    "\n",
    "$$ \\text{Number of units needed per well} = \\frac{$500,000}{$4,500} = 111 $$\n",
    "\n",
    "I need to find wells with predicted reserves greater than 111 units. That is somewhat more than the average reserves in regions 0 and 2 and much more than the average reserves in region 1. "
   ]
  },
  {
   "cell_type": "code",
   "execution_count": 15,
   "metadata": {},
   "outputs": [
    {
     "name": "stdout",
     "output_type": "stream",
     "text": [
      "Average Target Reserves per Region\n",
      "Region 0: 92.50 thousand barrels\n",
      "Region 1: 68.83 thousand barrels\n",
      "Region 2: 95.00 thousand barrels\n"
     ]
    }
   ],
   "source": [
    "# Compare the minimum profitable reserves with the average volume of reserves in each region\n",
    "\n",
    "target_g0_all = pd.concat([target_g0_train, target_g0_valid])\n",
    "target_g1_all = pd.concat([target_g1_train, target_g1_valid])\n",
    "target_g2_all = pd.concat([target_g2_train, target_g2_valid])\n",
    "\n",
    "print('Average Target Reserves per Region')\n",
    "print(f\"Region 0: {target_g0_all.mean():.2f} thousand barrels\")\n",
    "print(f\"Region 1: {target_g1_all.mean():.2f} thousand barrels\")\n",
    "print(f\"Region 2: {target_g2_all.mean():.2f} thousand barrels\")"
   ]
  },
  {
   "cell_type": "code",
   "execution_count": 16,
   "metadata": {},
   "outputs": [
    {
     "name": "stdout",
     "output_type": "stream",
     "text": [
      "Predicted Reserves for the Top 200 Wells per Region\n",
      "Region 0: min = 157.11, mean = 163.22\n",
      "Region 1: min = 138.90, mean = 139.16\n",
      "Region 2: min = 151.24, mean = 156.26\n"
     ]
    }
   ],
   "source": [
    "# Pick the wells with the highest predicted reserves for each region \n",
    "\n",
    "predicted_g0_all = model_g0.predict(pd.concat([features_g0_train, features_g0_valid]))\n",
    "predicted_g1_all = model_g1.predict(pd.concat([features_g1_train, features_g1_valid]))\n",
    "predicted_g2_all = model_g2.predict(pd.concat([features_g2_train, features_g2_valid]))\n",
    "\n",
    "best_wells_g0 = pd.Series(predicted_g0_all).sort_values().tail(200)\n",
    "best_wells_g1 = pd.Series(predicted_g1_all).sort_values().tail(200)\n",
    "best_wells_g2 = pd.Series(predicted_g2_all).sort_values().tail(200)\n",
    "\n",
    "print('Predicted Reserves for the Top 200 Wells per Region')\n",
    "print(f\"Region 0: min = {best_wells_g0.min():.2f}, mean = {best_wells_g0.mean():.2f}\")\n",
    "print(f\"Region 1: min = {best_wells_g1.min():.2f}, mean = {best_wells_g1.mean():.2f}\")\n",
    "print(f\"Region 2: min = {best_wells_g2.min():.2f}, mean = {best_wells_g2.mean():.2f}\")"
   ]
  },
  {
   "cell_type": "markdown",
   "metadata": {},
   "source": [
    "The average actual target reserves is well below the minimum 111 units required for profitability in every region, the greatest being region 2 with 95 units. On the other hand, the top 200 wells for predicted reserves in all three regions have averages greater than the 111 minimum units required. Region 0 has the greatest average predicted reserves with an average of 163.22 thousand barrels each, so it appears to be the most suitable site. "
   ]
  },
  {
   "cell_type": "code",
   "execution_count": 17,
   "metadata": {
    "scrolled": true
   },
   "outputs": [
    {
     "name": "stdout",
     "output_type": "stream",
     "text": [
      "Predicted Profits for the Top 200 Wells per Region\n",
      "Region 0: $46,895,961.77\n",
      "Region 1: $25,246,061.62\n",
      "Region 2: $40,637,855.91\n"
     ]
    }
   ],
   "source": [
    "# Write a function to calculate profit from a set of selected oil wells and model predictions\n",
    "\n",
    "def calc_profit(predictions):\n",
    "    best_predictions = predictions.sort_values().tail(200)\n",
    "    return best_predictions.sum()*4500 - 100000000\n",
    "\n",
    "print('Predicted Profits for the Top 200 Wells per Region')\n",
    "print(f\"Region 0: ${calc_profit(best_wells_g0):,.2f}\")\n",
    "print(f\"Region 1: ${calc_profit(best_wells_g1):,.2f}\")\n",
    "print(f\"Region 2: ${calc_profit(best_wells_g2):,.2f}\")"
   ]
  },
  {
   "cell_type": "code",
   "execution_count": 18,
   "metadata": {},
   "outputs": [
    {
     "name": "stdout",
     "output_type": "stream",
     "text": [
      "Target Profits for the Top 200 Wells per Region\n",
      "Region 0: $66,350,365.68\n",
      "Region 1: $24,150,866.97\n",
      "Region 2: $70,596,329.28\n"
     ]
    }
   ],
   "source": [
    "# Summarize the profits for target volumes of reserves in each region\n",
    "\n",
    "print('Target Profits for the Top 200 Wells per Region')\n",
    "print(f\"Region 0: ${calc_profit(target_g0_all):,.2f}\")\n",
    "print(f\"Region 1: ${calc_profit(target_g1_all):,.2f}\")\n",
    "print(f\"Region 2: ${calc_profit(target_g2_all):,.2f}\")"
   ]
  },
  {
   "cell_type": "markdown",
   "metadata": {},
   "source": [
    "The profit for the top 200 target reserves differs from those for the top 200 predicted reserves. Target profits were substantially larger that predicted profits for region 0 (\\\\$66 million vs \\\\$47 million) and region 2 (\\\\$71 million vs \\\\$41 million) but slightly smaller for region 1 (\\\\$24 million vs \\\\$25 million). That makes sense given the much stronger performance of the linear regression model for region 1 compared to the other regions. Region 0 has the highest predicted profits (\\\\$47 million) but region 2 has the highest target profits (\\\\$71 million), so it is difficult to choose among them. In either case, region 1 is much less profitable. Based on the model, I would recommend region 0 for further development. "
   ]
  },
  {
   "cell_type": "markdown",
   "metadata": {},
   "source": [
    "# Estimate Profts and Risks #"
   ]
  },
  {
   "cell_type": "code",
   "execution_count": 19,
   "metadata": {},
   "outputs": [],
   "source": [
    "# Create function for bootstrapping profits\n",
    "\n",
    "def bootstrap(predicted):\n",
    "    state = np.random.RandomState(12345)\n",
    "    profits = []\n",
    "    for i in range(1000):\n",
    "        subsample = predicted.sample(n=500, replace=True, random_state=state)\n",
    "        profits.append(calc_profit(pd.Series(subsample)))\n",
    "    return profits"
   ]
  },
  {
   "cell_type": "code",
   "execution_count": 20,
   "metadata": {},
   "outputs": [
    {
     "name": "stdout",
     "output_type": "stream",
     "text": [
      "Region 0\n"
     ]
    },
    {
     "data": {
      "text/plain": [
       "count    1.000000e+03\n",
       "mean     3.514879e+06\n",
       "std      1.092863e+06\n",
       "min     -9.259907e+04\n",
       "25%      2.763709e+06\n",
       "50%      3.536639e+06\n",
       "75%      4.238015e+06\n",
       "max      6.552813e+06\n",
       "Name: profits, dtype: float64"
      ]
     },
     "metadata": {},
     "output_type": "display_data"
    },
    {
     "data": {
      "image/png": "[encoded data removed]",
      "text/plain": [
       "<Figure size 640x480 with 1 Axes>"
      ]
     },
     "metadata": {},
     "output_type": "display_data"
    },
    {
     "name": "stdout",
     "output_type": "stream",
     "text": [
      "Region 1\n"
     ]
    },
    {
     "data": {
      "text/plain": [
       "count    1.000000e+03\n",
       "mean     4.422924e+06\n",
       "std      2.143915e+06\n",
       "min     -1.662125e+06\n",
       "25%      2.923657e+06\n",
       "50%      4.336381e+06\n",
       "75%      5.816521e+06\n",
       "max      1.211102e+07\n",
       "Name: profits, dtype: float64"
      ]
     },
     "metadata": {},
     "output_type": "display_data"
    },
    {
     "data": {
      "image/png": "[encoded data removed]",
      "text/plain": [
       "<Figure size 640x480 with 1 Axes>"
      ]
     },
     "metadata": {},
     "output_type": "display_data"
    },
    {
     "name": "stdout",
     "output_type": "stream",
     "text": [
      "Region 2\n"
     ]
    },
    {
     "data": {
      "text/plain": [
       "count    1.000000e+03\n",
       "mean     2.783379e+06\n",
       "std      1.015324e+06\n",
       "min     -1.022114e+05\n",
       "25%      2.093721e+06\n",
       "50%      2.823572e+06\n",
       "75%      3.489851e+06\n",
       "max      5.935459e+06\n",
       "Name: profits, dtype: float64"
      ]
     },
     "metadata": {},
     "output_type": "display_data"
    },
    {
     "data": {
      "image/png": "[encoded data removed]",
      "text/plain": [
       "<Figure size 640x480 with 1 Axes>"
      ]
     },
     "metadata": {},
     "output_type": "display_data"
    }
   ],
   "source": [
    "# Examine bootstrapped profit distributions \n",
    "\n",
    "profits_g0 = bootstrap(pd.Series(predicted_g0_all))\n",
    "profits_g1 = bootstrap(pd.Series(predicted_g1_all))\n",
    "profits_g2 = bootstrap(pd.Series(predicted_g2_all))\n",
    "\n",
    "print('Region 0')\n",
    "histo(pd.Series(profits_g0).to_frame(name='profits'), 'profits')\n",
    "print('Region 1')\n",
    "histo(pd.Series(profits_g1).to_frame(name='profits'), 'profits')\n",
    "print('Region 2')\n",
    "histo(pd.Series(profits_g2).to_frame(name='profits'), 'profits')"
   ]
  },
  {
   "cell_type": "code",
   "execution_count": 21,
   "metadata": {},
   "outputs": [
    {
     "name": "stdout",
     "output_type": "stream",
     "text": [
      "Region 0\n",
      "Average Profit: $3,514,879\n",
      "95% Confidence Interval: ($1,396,863 - $5,526,976)\n",
      "Risk of Loss: 0.1%\n",
      "\n",
      "Region 1\n",
      "Average Profit: $4,422,924\n",
      "95% Confidence Interval: ($483,640 - $8,764,372)\n",
      "Risk of Loss: 1.5%\n",
      "\n",
      "Region 2\n",
      "Average Profit: $2,783,379\n",
      "95% Confidence Interval: ($741,015 - $4,618,974)\n",
      "Risk of Loss: 0.1%\n",
      "\n"
     ]
    }
   ],
   "source": [
    "# Calculate risk and profit for each region\n",
    "\n",
    "profits_list = [profits_g0, profits_g1, profits_g2]\n",
    "\n",
    "for i in range(3):\n",
    "    avg_profit = np.mean(profits_list[i])\n",
    "    conf_interval = np.percentile(profits_list[i], [2.5, 97.5])\n",
    "    risk_of_loss = (np.array(profits_list[i]) < 0).mean() * 100\n",
    "\n",
    "    print(f\"Region {i}\")\n",
    "    print(f\"Average Profit: ${avg_profit:,.0f}\")\n",
    "    print(f\"95% Confidence Interval: (${conf_interval[0]:,.0f} - ${conf_interval[1]:,.0f})\")\n",
    "    print(f\"Risk of Loss: {risk_of_loss}%\")\n",
    "    print()"
   ]
  },
  {
   "cell_type": "markdown",
   "metadata": {},
   "source": [
    "The bootstrapped distributions are all normal, as expected. None of the regions reaches a risk of loss greater than 2.5%, the project threshold, so all are eligible for exploration. Regions 0 and 2 have similar sized 95% confidence intervals with the latter shifted somewhat to the right. The 95% confidence interval for region 1 is about twice as wide as those for the other regions, giving it the most risk of negative profits (1.5%) but also the most potential profit. Region 1 has the highest average profit (\\\\$4.42 million) by a substantial margin (region 0 = \\\\$3.51 million and region 2 = \\\\$2.78 million). \n",
    "\n",
    "That contradicts all previous analyses, which consistently found region 1 with the lowest reserves and profits. I will follow-up by performing the same analysis on the targets instead of the predictions."
   ]
  },
  {
   "cell_type": "code",
   "execution_count": 22,
   "metadata": {},
   "outputs": [
    {
     "name": "stdout",
     "output_type": "stream",
     "text": [
      "Region 0\n"
     ]
    },
    {
     "data": {
      "text/plain": [
       "count    1.000000e+03\n",
       "mean     2.389593e+07\n",
       "std      1.909970e+06\n",
       "min      1.754782e+07\n",
       "25%      2.262258e+07\n",
       "50%      2.393134e+07\n",
       "75%      2.521075e+07\n",
       "max      2.946214e+07\n",
       "Name: profits, dtype: float64"
      ]
     },
     "metadata": {},
     "output_type": "display_data"
    },
    {
     "data": {
      "image/png": "[encoded data removed]",
      "text/plain": [
       "<Figure size 640x480 with 1 Axes>"
      ]
     },
     "metadata": {},
     "output_type": "display_data"
    },
    {
     "name": "stdout",
     "output_type": "stream",
     "text": [
      "Region 1\n"
     ]
    },
    {
     "data": {
      "text/plain": [
       "count    1.000000e+03\n",
       "mean     4.455190e+06\n",
       "std      2.126805e+06\n",
       "min     -1.665796e+06\n",
       "25%      2.991883e+06\n",
       "50%      4.385004e+06\n",
       "75%      5.856497e+06\n",
       "max      1.213262e+07\n",
       "Name: profits, dtype: float64"
      ]
     },
     "metadata": {},
     "output_type": "display_data"
    },
    {
     "data": {
      "image/png": "[encoded data removed]",
      "text/plain": [
       "<Figure size 640x480 with 1 Axes>"
      ]
     },
     "metadata": {},
     "output_type": "display_data"
    },
    {
     "name": "stdout",
     "output_type": "stream",
     "text": [
      "Region 2\n"
     ]
    },
    {
     "data": {
      "text/plain": [
       "count    1.000000e+03\n",
       "mean     2.630277e+07\n",
       "std      2.055566e+06\n",
       "min      2.013687e+07\n",
       "25%      2.476127e+07\n",
       "50%      2.635944e+07\n",
       "75%      2.775677e+07\n",
       "max      3.252112e+07\n",
       "Name: profits, dtype: float64"
      ]
     },
     "metadata": {},
     "output_type": "display_data"
    },
    {
     "data": {
      "image/png": "[encoded data removed]",
      "text/plain": [
       "<Figure size 640x480 with 1 Axes>"
      ]
     },
     "metadata": {},
     "output_type": "display_data"
    }
   ],
   "source": [
    "# Examine bootstrapped profit distributions for targets\n",
    "\n",
    "profits_g0_target = bootstrap(pd.Series(target_g0_all))\n",
    "profits_g1_target = bootstrap(pd.Series(target_g1_all))\n",
    "profits_g2_target = bootstrap(pd.Series(target_g2_all))\n",
    "\n",
    "print('Region 0')\n",
    "histo(pd.Series(profits_g0_target).to_frame(name='profits'), 'profits')\n",
    "print('Region 1')\n",
    "histo(pd.Series(profits_g1_target).to_frame(name='profits'), 'profits')\n",
    "print('Region 2')\n",
    "histo(pd.Series(profits_g2_target).to_frame(name='profits'), 'profits')"
   ]
  },
  {
   "cell_type": "code",
   "execution_count": 23,
   "metadata": {
    "scrolled": true
   },
   "outputs": [
    {
     "name": "stdout",
     "output_type": "stream",
     "text": [
      "Region 0\n",
      "Average Profit: $23,895,930\n",
      "95% Confidence Interval: ($19,934,758 - $27,550,878)\n",
      "Risk of Loss: 0.00%\n",
      "\n",
      "Region 1\n",
      "Average Profit: $4,455,190\n",
      "95% Confidence Interval: ($530,496 - $8,816,011)\n",
      "Risk of Loss: 1.40%\n",
      "\n",
      "Region 2\n",
      "Average Profit: $26,302,768\n",
      "95% Confidence Interval: ($22,285,058 - $30,287,251)\n",
      "Risk of Loss: 0.00%\n",
      "\n"
     ]
    }
   ],
   "source": [
    "# Calculate risk and profit for each region using targets\n",
    "\n",
    "profits_list = [profits_g0_target, profits_g1_target, profits_g2_target]\n",
    "\n",
    "for i in range(3):\n",
    "    avg_profit = np.mean(profits_list[i])\n",
    "    conf_interval = np.percentile(profits_list[i], [2.5, 97.5])\n",
    "    risk_of_loss = (np.array(profits_list[i]) < 0).mean() * 100\n",
    "\n",
    "    print(f\"Region {i}\")\n",
    "    print(f\"Average Profit: ${avg_profit:,.0f}\")\n",
    "    print(f\"95% Confidence Interval: (${conf_interval[0]:,.0f} - ${conf_interval[1]:,.0f})\")\n",
    "    print(f\"Risk of Loss: {risk_of_loss:.2f}%\")\n",
    "    print()"
   ]
  },
  {
   "cell_type": "code",
   "execution_count": 24,
   "metadata": {},
   "outputs": [
    {
     "data": {
      "image/png": "[encoded data removed]",
      "text/plain": [
       "<Figure size 640x480 with 1 Axes>"
      ]
     },
     "metadata": {},
     "output_type": "display_data"
    },
    {
     "data": {
      "image/png": "[encoded data removed]",
      "text/plain": [
       "<Figure size 640x480 with 1 Axes>"
      ]
     },
     "metadata": {},
     "output_type": "display_data"
    },
    {
     "data": {
      "image/png": "[encoded data removed]",
      "text/plain": [
       "<Figure size 640x480 with 1 Axes>"
      ]
     },
     "metadata": {},
     "output_type": "display_data"
    }
   ],
   "source": [
    "# Examine target and predicted distributions\n",
    "\n",
    "target_list = [target_g0_all, target_g1_all, target_g2_all]\n",
    "predicted_list = [predicted_g0_all, predicted_g1_all, predicted_g2_all]\n",
    "\n",
    "for i in range(3):\n",
    "    plt.hist(target_list[i], bins=50, alpha=0.5, label='Target')\n",
    "    plt.hist(predicted_list[i], bins=50, alpha=0.5, label='Predicted')\n",
    "    plt.legend()\n",
    "    plt.xlabel('Oil Reserves (thousands of barrels)')\n",
    "    plt.ylabel('Frequency')\n",
    "    plt.title(f\"Comparison of Target and Predicted Distributions in Region {i}\")\n",
    "    plt.show()"
   ]
  },
  {
   "cell_type": "markdown",
   "metadata": {},
   "source": [
    "The average profit using targets instead of predictions is the same for region 1 but drastically different for regions 0 and 2, which increase by factors of about 7 and 9, respectively. Whereas region 1 is the most profitable using predictions (\\\\$4.42 million), region 2 is the most profitable using targets (\\\\$26.30 million). The latter is nearly six times greater than the former!\n",
    "\n",
    "I think this spectacular divergence of results is best explained by distributional differences. Targets have a higher standard deviation, which implies that their upper tail is more extreme than that of predictions. Since the profit calculation uses only the upper tail of the distribution, the more widely dispersed targets are much more profitable than the predictions. That only applies in regions 0 and 2 because the limited range of targets in region 1 (and the subsequently much better performing regression model) eliminates any difference between the target and prediction distributions. The profit calculation and bootstrapping method further exaggerate a modest difference in mean reserves into a huge difference in profits. "
   ]
  },
  {
   "cell_type": "markdown",
   "metadata": {},
   "source": [
    "# General Discussion #"
   ]
  },
  {
   "cell_type": "markdown",
   "metadata": {},
   "source": [
    "This project aims to train a model to help suggest a region for the development of oil wells by the OilyGiant mining company. I imported and prepared the data, trained models to predict oil reserves for mines in each region, calculated the likely profit for each region, and employed bootstrapping to estimate the risk of nonprofits. \n",
    "\n",
    "Some of the features and targets have unusual distributions. The targets for all regions are far from normal and those for region 1 are discrete and extremely restricted in range. Something unique about region 1 makes it different from the others and affects model performance. The linear regression model for region 1 is almost perfect (R^2 = 1) but those for region 0 (R^2 = 0.28) and region 2 (R^2 = 0.21) are quite poor. \n",
    "\n",
    "Given the business conditions and costs of doing business, only wells with reserves greater than 111 units (thousands of barrels) turn a profit. That is more than the average reserves in any of the regions, but profits are only derived from the top 200 wells in a sample of 500 taken in each region. The average predicted reserves in the top 200 wells surpasses the 111-unit threshold in every region with the best being region 0 (163.22 units). Profitability should not be a problem. \n",
    "\n",
    "Estimating profits for the top 200 reserves in each region confirms that region 1 is roughly half as profitable as the other two regions. Estimations using targets (actual reported data) are on the order of twice as large as those using model predictions for regions 0 and 2 but not for region 1. That is explained by the far superior performance of the model for region 1, which is much less likely to underestimate reserves. Whereas region 2 is the most profitable (\\\\$71 million) using targets, region 0 is the most profitable (\\\\$47 million) using predictions. The model diverges from reality. \n",
    "\n",
    "Confidence intervals estimated with bootstrapping reveal risks of financial losses well below the project threshold of 2.5% for all three regions. The only question is which region is likely to be the most profitable. Surprisingly, region 1 has the highest average predicted profit (\\\\$4.42 million) according to the bootstrapped estimates. That contradicts all the previous analyses, which consistently found region 1 with the least reserves and profits. \n",
    "\n",
    "Comparing bootstrapped profit estimates using targets instead of predictions drastically changes the results. Using targets, region 1 is once again the least profitable region by a large measure. Region 2 is the most profitable with \\\\$26.30 million, nearly six times the profit of region 1 (\\\\$4.46 million). Using targets instead of predictions affects regions 0 and 2 much more than region 1 because of those quirks in its distribution discussed earlier. Although the near-perfect linear regression model for region 1 produces very accurate predictions, those for regions 0 and 2 are quite inaccurate and narrow the distributions considerably. Such narrow distributions systematically underestimate the upper tail, including the top 200 wells used for the profit calculation. The best predicted wells are less lucrative than the best target wells. That dynamic is exacerbated by bootstrapping, which eliminates most of the upper tail, and the profit formula itself. All those factors add up to greatly underestimate the profitability of wells in regions 0 and 2 but not in region 1. \n",
    "\n",
    "This project offers a great lesson about the perils of modeling. Models can be extremely effective or not, depending on various factors. Relying on poorly performing models can lead to misunderstandings and bad decisions. If I were to base my recommendation to OilyGiant on the results of the models, I would have to select region 1 for further development. There are warning signs from earlier analyses that conflict with the final result, but the bootstrapped estimates clearly favor region 1. Having done the analysis using targets instead of predictions, I know that recommending region 1 is a mistake. It is reliably profitable but by far the least lucrative region. Regions 0 and 2 would both be much better recommendations, with region 2 the ultimate victor. I suppose the lesson is to try several different analyses, look for inconsistencies, and be wary of poorly fitting models or suspicious distributions. "
   ]
  }
 ],
 "metadata": {
  "ExecuteTimeLog": [
   {
    "duration": 2635,
    "start_time": "2024-12-17T11:24:51.825Z"
   },
   {
    "duration": 4,
    "start_time": "2024-12-17T11:24:54.462Z"
   },
   {
    "duration": 384,
    "start_time": "2024-12-17T11:26:22.567Z"
   },
   {
    "duration": 13,
    "start_time": "2024-12-17T11:29:28.862Z"
   },
   {
    "duration": 51,
    "start_time": "2024-12-17T11:31:10.544Z"
   },
   {
    "duration": 4,
    "start_time": "2024-12-17T11:33:43.062Z"
   },
   {
    "duration": 840,
    "start_time": "2024-12-17T11:34:26.584Z"
   },
   {
    "duration": 307,
    "start_time": "2024-12-17T11:34:27.426Z"
   },
   {
    "duration": 52,
    "start_time": "2024-12-17T11:34:27.737Z"
   },
   {
    "duration": 4,
    "start_time": "2024-12-17T11:34:27.791Z"
   },
   {
    "duration": 20812,
    "start_time": "2024-12-17T11:34:27.796Z"
   },
   {
    "duration": 0,
    "start_time": "2024-12-17T11:34:48.611Z"
   },
   {
    "duration": 6,
    "start_time": "2024-12-17T11:35:22.276Z"
   },
   {
    "duration": 4,
    "start_time": "2024-12-17T11:35:37.605Z"
   },
   {
    "duration": 4,
    "start_time": "2024-12-17T11:35:44.451Z"
   },
   {
    "duration": 147,
    "start_time": "2024-12-17T11:35:45.178Z"
   },
   {
    "duration": 3,
    "start_time": "2024-12-17T11:36:35.259Z"
   },
   {
    "duration": 337255,
    "start_time": "2024-12-17T11:36:42.651Z"
   },
   {
    "duration": 32079,
    "start_time": "2024-12-17T11:43:31.796Z"
   },
   {
    "duration": 880,
    "start_time": "2024-12-17T11:46:07.235Z"
   },
   {
    "duration": 297,
    "start_time": "2024-12-17T11:46:08.118Z"
   },
   {
    "duration": 53,
    "start_time": "2024-12-17T11:46:08.417Z"
   },
   {
    "duration": 4,
    "start_time": "2024-12-17T11:46:08.472Z"
   },
   {
    "duration": 171,
    "start_time": "2024-12-17T11:46:08.479Z"
   },
   {
    "duration": 3,
    "start_time": "2024-12-17T11:46:08.652Z"
   },
   {
    "duration": 2,
    "start_time": "2024-12-17T11:46:08.657Z"
   },
   {
    "duration": 53488,
    "start_time": "2024-12-17T11:46:08.660Z"
   },
   {
    "duration": 119,
    "start_time": "2024-12-17T11:47:05.769Z"
   },
   {
    "duration": 122,
    "start_time": "2024-12-17T11:47:34.096Z"
   },
   {
    "duration": 605,
    "start_time": "2024-12-17T11:48:03.475Z"
   },
   {
    "duration": 410,
    "start_time": "2024-12-17T11:48:26.295Z"
   },
   {
    "duration": 68692,
    "start_time": "2024-12-17T11:48:50.840Z"
   },
   {
    "duration": 0,
    "start_time": "2024-12-17T11:49:59.535Z"
   },
   {
    "duration": 13,
    "start_time": "2024-12-17T11:50:14.750Z"
   },
   {
    "duration": 4,
    "start_time": "2024-12-17T11:50:40.893Z"
   },
   {
    "duration": 34980,
    "start_time": "2024-12-17T11:50:41.583Z"
   },
   {
    "duration": 0,
    "start_time": "2024-12-17T11:51:16.565Z"
   },
   {
    "duration": 3,
    "start_time": "2024-12-17T11:51:18.534Z"
   },
   {
    "duration": 146732,
    "start_time": "2024-12-17T11:51:19.014Z"
   },
   {
    "duration": 0,
    "start_time": "2024-12-17T11:53:45.747Z"
   },
   {
    "duration": 4,
    "start_time": "2024-12-17T11:53:48.394Z"
   },
   {
    "duration": 87113,
    "start_time": "2024-12-17T11:53:48.886Z"
   },
   {
    "duration": 0,
    "start_time": "2024-12-17T11:55:16.002Z"
   },
   {
    "duration": 6,
    "start_time": "2024-12-17T11:55:17.892Z"
   },
   {
    "duration": 77697,
    "start_time": "2024-12-17T11:55:27.102Z"
   },
   {
    "duration": 3,
    "start_time": "2024-12-17T11:57:01.238Z"
   },
   {
    "duration": 6,
    "start_time": "2024-12-17T11:57:10.670Z"
   },
   {
    "duration": 62556,
    "start_time": "2024-12-17T11:57:11.111Z"
   },
   {
    "duration": 898,
    "start_time": "2024-12-17T11:58:28.998Z"
   },
   {
    "duration": 298,
    "start_time": "2024-12-17T11:58:29.899Z"
   },
   {
    "duration": 462,
    "start_time": "2024-12-17T11:58:46.967Z"
   },
   {
    "duration": 5,
    "start_time": "2024-12-17T11:59:01.835Z"
   },
   {
    "duration": 37397,
    "start_time": "2024-12-17T11:59:03.443Z"
   },
   {
    "duration": 0,
    "start_time": "2024-12-17T12:02:29.678Z"
   },
   {
    "duration": 0,
    "start_time": "2024-12-17T12:02:29.680Z"
   },
   {
    "duration": 860,
    "start_time": "2024-12-17T12:02:58.682Z"
   },
   {
    "duration": 292,
    "start_time": "2024-12-17T12:02:59.544Z"
   },
   {
    "duration": 51,
    "start_time": "2024-12-17T12:03:02.514Z"
   },
   {
    "duration": 6,
    "start_time": "2024-12-17T12:03:15.890Z"
   },
   {
    "duration": 870,
    "start_time": "2024-12-17T12:04:31.623Z"
   },
   {
    "duration": 293,
    "start_time": "2024-12-17T12:04:32.495Z"
   },
   {
    "duration": 63,
    "start_time": "2024-12-17T12:04:32.790Z"
   },
   {
    "duration": 5,
    "start_time": "2024-12-17T12:04:32.856Z"
   },
   {
    "duration": 2,
    "start_time": "2024-12-17T12:04:32.864Z"
   },
   {
    "duration": 3,
    "start_time": "2024-12-17T12:04:32.867Z"
   },
   {
    "duration": 3,
    "start_time": "2024-12-17T12:04:32.872Z"
   },
   {
    "duration": 6,
    "start_time": "2024-12-17T12:04:32.878Z"
   },
   {
    "duration": 39850,
    "start_time": "2024-12-17T12:04:32.886Z"
   },
   {
    "duration": 0,
    "start_time": "2024-12-17T12:05:12.738Z"
   },
   {
    "duration": 5,
    "start_time": "2024-12-17T12:05:23.897Z"
   },
   {
    "duration": 28514,
    "start_time": "2024-12-17T12:05:24.610Z"
   },
   {
    "duration": 5,
    "start_time": "2024-12-17T12:05:55.776Z"
   },
   {
    "duration": 63470,
    "start_time": "2024-12-17T12:05:56.952Z"
   },
   {
    "duration": 3,
    "start_time": "2024-12-17T12:07:22.619Z"
   },
   {
    "duration": 906,
    "start_time": "2024-12-17T12:08:40.664Z"
   },
   {
    "duration": 305,
    "start_time": "2024-12-17T12:08:41.573Z"
   },
   {
    "duration": 70,
    "start_time": "2024-12-17T12:08:41.881Z"
   },
   {
    "duration": 4,
    "start_time": "2024-12-17T12:08:41.958Z"
   },
   {
    "duration": 3,
    "start_time": "2024-12-17T12:08:41.965Z"
   },
   {
    "duration": 3,
    "start_time": "2024-12-17T12:08:41.970Z"
   },
   {
    "duration": 4,
    "start_time": "2024-12-17T12:08:41.975Z"
   },
   {
    "duration": 7,
    "start_time": "2024-12-17T12:08:41.981Z"
   },
   {
    "duration": 3,
    "start_time": "2024-12-17T12:08:41.990Z"
   },
   {
    "duration": 180462,
    "start_time": "2024-12-17T12:08:41.994Z"
   },
   {
    "duration": 0,
    "start_time": "2024-12-17T12:11:42.458Z"
   },
   {
    "duration": 4,
    "start_time": "2024-12-17T12:11:49.616Z"
   },
   {
    "duration": 7716,
    "start_time": "2024-12-17T12:11:50.542Z"
   },
   {
    "duration": 91,
    "start_time": "2024-12-17T12:12:58.744Z"
   },
   {
    "duration": 3,
    "start_time": "2024-12-17T12:13:35.711Z"
   },
   {
    "duration": 7,
    "start_time": "2024-12-17T12:14:57.630Z"
   },
   {
    "duration": 373,
    "start_time": "2024-12-17T12:14:58.334Z"
   },
   {
    "duration": 6,
    "start_time": "2024-12-17T12:16:15.631Z"
   },
   {
    "duration": 461,
    "start_time": "2024-12-17T12:16:15.739Z"
   },
   {
    "duration": 876,
    "start_time": "2024-12-17T12:16:56.427Z"
   },
   {
    "duration": 300,
    "start_time": "2024-12-17T12:16:57.305Z"
   },
   {
    "duration": 63,
    "start_time": "2024-12-17T12:16:57.606Z"
   },
   {
    "duration": 4,
    "start_time": "2024-12-17T12:16:57.671Z"
   },
   {
    "duration": 2,
    "start_time": "2024-12-17T12:16:57.679Z"
   },
   {
    "duration": 2,
    "start_time": "2024-12-17T12:16:57.683Z"
   },
   {
    "duration": 3,
    "start_time": "2024-12-17T12:16:57.687Z"
   },
   {
    "duration": 42,
    "start_time": "2024-12-17T12:16:57.691Z"
   },
   {
    "duration": 9,
    "start_time": "2024-12-17T12:16:57.735Z"
   },
   {
    "duration": 494,
    "start_time": "2024-12-17T12:16:57.746Z"
   },
   {
    "duration": 8,
    "start_time": "2024-12-17T12:16:58.242Z"
   },
   {
    "duration": 3,
    "start_time": "2024-12-17T12:16:58.252Z"
   },
   {
    "duration": 3,
    "start_time": "2024-12-17T12:16:58.257Z"
   },
   {
    "duration": 94,
    "start_time": "2024-12-17T12:16:58.263Z"
   },
   {
    "duration": 913,
    "start_time": "2024-12-17T12:19:43.890Z"
   },
   {
    "duration": 295,
    "start_time": "2024-12-17T12:19:44.806Z"
   },
   {
    "duration": 59,
    "start_time": "2024-12-17T12:19:45.102Z"
   },
   {
    "duration": 4,
    "start_time": "2024-12-17T12:19:45.162Z"
   },
   {
    "duration": 2,
    "start_time": "2024-12-17T12:19:45.169Z"
   },
   {
    "duration": 3,
    "start_time": "2024-12-17T12:19:45.172Z"
   },
   {
    "duration": 2,
    "start_time": "2024-12-17T12:19:45.178Z"
   },
   {
    "duration": 7,
    "start_time": "2024-12-17T12:19:45.182Z"
   },
   {
    "duration": 2,
    "start_time": "2024-12-17T12:19:45.191Z"
   },
   {
    "duration": 481,
    "start_time": "2024-12-17T12:19:45.232Z"
   },
   {
    "duration": 9,
    "start_time": "2024-12-17T12:19:45.714Z"
   },
   {
    "duration": 6,
    "start_time": "2024-12-17T12:19:45.725Z"
   },
   {
    "duration": 3,
    "start_time": "2024-12-17T12:19:45.732Z"
   },
   {
    "duration": 67,
    "start_time": "2024-12-17T12:19:45.738Z"
   },
   {
    "duration": 894,
    "start_time": "2024-12-17T12:20:51.092Z"
   },
   {
    "duration": 293,
    "start_time": "2024-12-17T12:20:51.989Z"
   },
   {
    "duration": 64,
    "start_time": "2024-12-17T12:20:52.284Z"
   },
   {
    "duration": 4,
    "start_time": "2024-12-17T12:20:52.350Z"
   },
   {
    "duration": 2,
    "start_time": "2024-12-17T12:20:52.356Z"
   },
   {
    "duration": 3,
    "start_time": "2024-12-17T12:20:52.360Z"
   },
   {
    "duration": 4,
    "start_time": "2024-12-17T12:20:52.364Z"
   },
   {
    "duration": 7,
    "start_time": "2024-12-17T12:20:52.369Z"
   },
   {
    "duration": 2,
    "start_time": "2024-12-17T12:20:52.379Z"
   },
   {
    "duration": 517,
    "start_time": "2024-12-17T12:20:52.382Z"
   },
   {
    "duration": 37,
    "start_time": "2024-12-17T12:20:52.901Z"
   },
   {
    "duration": 3,
    "start_time": "2024-12-17T12:20:52.940Z"
   },
   {
    "duration": 3,
    "start_time": "2024-12-17T12:20:52.944Z"
   },
   {
    "duration": 94,
    "start_time": "2024-12-17T12:20:52.950Z"
   },
   {
    "duration": 882,
    "start_time": "2024-12-17T12:24:38.333Z"
   },
   {
    "duration": 288,
    "start_time": "2024-12-17T12:24:39.217Z"
   },
   {
    "duration": 59,
    "start_time": "2024-12-17T12:24:39.507Z"
   },
   {
    "duration": 3,
    "start_time": "2024-12-17T12:24:39.568Z"
   },
   {
    "duration": 2,
    "start_time": "2024-12-17T12:24:39.575Z"
   },
   {
    "duration": 3,
    "start_time": "2024-12-17T12:24:39.579Z"
   },
   {
    "duration": 3,
    "start_time": "2024-12-17T12:24:39.583Z"
   },
   {
    "duration": 6,
    "start_time": "2024-12-17T12:24:39.588Z"
   },
   {
    "duration": 37,
    "start_time": "2024-12-17T12:24:39.595Z"
   },
   {
    "duration": 425,
    "start_time": "2024-12-17T12:24:39.635Z"
   },
   {
    "duration": 114,
    "start_time": "2024-12-17T12:24:40.062Z"
   },
   {
    "duration": 3,
    "start_time": "2024-12-17T12:24:40.178Z"
   },
   {
    "duration": 3,
    "start_time": "2024-12-17T12:24:40.182Z"
   },
   {
    "duration": 436,
    "start_time": "2024-12-17T12:24:40.188Z"
   },
   {
    "duration": 865,
    "start_time": "2024-12-17T12:27:23.113Z"
   },
   {
    "duration": 297,
    "start_time": "2024-12-17T12:27:23.980Z"
   },
   {
    "duration": 66,
    "start_time": "2024-12-17T12:27:24.278Z"
   },
   {
    "duration": 4,
    "start_time": "2024-12-17T12:27:24.346Z"
   },
   {
    "duration": 3,
    "start_time": "2024-12-17T12:27:24.352Z"
   },
   {
    "duration": 2,
    "start_time": "2024-12-17T12:27:24.357Z"
   },
   {
    "duration": 2,
    "start_time": "2024-12-17T12:27:24.361Z"
   },
   {
    "duration": 6,
    "start_time": "2024-12-17T12:27:24.365Z"
   },
   {
    "duration": 3,
    "start_time": "2024-12-17T12:27:24.373Z"
   },
   {
    "duration": 197,
    "start_time": "2024-12-17T12:27:24.379Z"
   },
   {
    "duration": 165,
    "start_time": "2024-12-17T12:27:24.578Z"
   },
   {
    "duration": 3,
    "start_time": "2024-12-17T12:27:24.745Z"
   },
   {
    "duration": 3,
    "start_time": "2024-12-17T12:27:24.750Z"
   },
   {
    "duration": 426,
    "start_time": "2024-12-17T12:27:24.756Z"
   },
   {
    "duration": 0,
    "start_time": "2024-12-17T12:28:33.448Z"
   },
   {
    "duration": 920,
    "start_time": "2024-12-17T12:28:38.078Z"
   },
   {
    "duration": 295,
    "start_time": "2024-12-17T12:28:39.000Z"
   },
   {
    "duration": 62,
    "start_time": "2024-12-17T12:28:39.297Z"
   },
   {
    "duration": 4,
    "start_time": "2024-12-17T12:28:39.361Z"
   },
   {
    "duration": 2,
    "start_time": "2024-12-17T12:28:39.367Z"
   },
   {
    "duration": 2,
    "start_time": "2024-12-17T12:28:39.371Z"
   },
   {
    "duration": 2,
    "start_time": "2024-12-17T12:28:39.375Z"
   },
   {
    "duration": 3,
    "start_time": "2024-12-17T12:28:39.379Z"
   },
   {
    "duration": 3,
    "start_time": "2024-12-17T12:28:39.384Z"
   },
   {
    "duration": 191,
    "start_time": "2024-12-17T12:28:39.389Z"
   },
   {
    "duration": 165,
    "start_time": "2024-12-17T12:28:39.582Z"
   },
   {
    "duration": 3,
    "start_time": "2024-12-17T12:28:39.750Z"
   },
   {
    "duration": 2,
    "start_time": "2024-12-17T12:28:39.755Z"
   },
   {
    "duration": 439,
    "start_time": "2024-12-17T12:28:39.760Z"
   },
   {
    "duration": 1007,
    "start_time": "2024-12-17T12:29:00.953Z"
   },
   {
    "duration": 139,
    "start_time": "2024-12-17T12:29:46.392Z"
   },
   {
    "duration": 148,
    "start_time": "2024-12-17T12:29:50.441Z"
   },
   {
    "duration": 139,
    "start_time": "2024-12-17T12:30:01.255Z"
   },
   {
    "duration": 5,
    "start_time": "2024-12-17T12:30:31.935Z"
   },
   {
    "duration": 5598,
    "start_time": "2024-12-17T12:30:38.781Z"
   },
   {
    "duration": 9,
    "start_time": "2024-12-17T12:30:59.601Z"
   },
   {
    "duration": 556,
    "start_time": "2024-12-17T12:31:35.121Z"
   },
   {
    "duration": 568,
    "start_time": "2024-12-17T12:32:38.640Z"
   },
   {
    "duration": 890,
    "start_time": "2024-12-17T12:34:04.303Z"
   },
   {
    "duration": 292,
    "start_time": "2024-12-17T12:34:05.195Z"
   },
   {
    "duration": 65,
    "start_time": "2024-12-17T12:34:05.489Z"
   },
   {
    "duration": 3,
    "start_time": "2024-12-17T12:34:05.556Z"
   },
   {
    "duration": 678,
    "start_time": "2024-12-17T12:34:05.561Z"
   },
   {
    "duration": 193,
    "start_time": "2024-12-17T12:35:34.423Z"
   },
   {
    "duration": 1033,
    "start_time": "2024-12-17T12:35:56.440Z"
   },
   {
    "duration": 4,
    "start_time": "2024-12-17T12:36:20.615Z"
   },
   {
    "duration": 2407,
    "start_time": "2024-12-17T12:36:21.118Z"
   },
   {
    "duration": 3,
    "start_time": "2024-12-17T12:36:48.194Z"
   },
   {
    "duration": 972,
    "start_time": "2024-12-17T12:36:51.109Z"
   },
   {
    "duration": 3,
    "start_time": "2024-12-17T12:37:07.320Z"
   },
   {
    "duration": 938,
    "start_time": "2024-12-17T12:37:07.694Z"
   },
   {
    "duration": 5,
    "start_time": "2024-12-17T12:37:43.846Z"
   },
   {
    "duration": 12,
    "start_time": "2024-12-17T12:38:22.590Z"
   },
   {
    "duration": 4,
    "start_time": "2024-12-17T12:40:55.565Z"
   },
   {
    "duration": 842,
    "start_time": "2024-12-17T12:40:55.951Z"
   },
   {
    "duration": 828,
    "start_time": "2024-12-17T12:41:19.277Z"
   },
   {
    "duration": 20,
    "start_time": "2024-12-17T12:42:21.688Z"
   },
   {
    "duration": 21,
    "start_time": "2024-12-17T12:42:29.063Z"
   },
   {
    "duration": 21,
    "start_time": "2024-12-17T12:42:34.827Z"
   },
   {
    "duration": 939,
    "start_time": "2024-12-17T12:43:42.972Z"
   },
   {
    "duration": 4,
    "start_time": "2024-12-17T12:46:49.324Z"
   },
   {
    "duration": 218,
    "start_time": "2024-12-17T12:52:03.377Z"
   },
   {
    "duration": 682,
    "start_time": "2024-12-17T12:52:36.681Z"
   },
   {
    "duration": 570,
    "start_time": "2024-12-17T12:52:45.408Z"
   },
   {
    "duration": 694,
    "start_time": "2024-12-17T12:52:51.145Z"
   },
   {
    "duration": 542,
    "start_time": "2024-12-17T12:52:59.225Z"
   },
   {
    "duration": 12,
    "start_time": "2024-12-17T12:54:19.412Z"
   },
   {
    "duration": 14,
    "start_time": "2024-12-17T12:54:26.801Z"
   },
   {
    "duration": 13,
    "start_time": "2024-12-17T12:57:06.989Z"
   },
   {
    "duration": 49,
    "start_time": "2024-12-17T12:57:47.902Z"
   },
   {
    "duration": 391,
    "start_time": "2024-12-17T12:58:18.943Z"
   },
   {
    "duration": 84,
    "start_time": "2024-12-17T13:01:24.470Z"
   },
   {
    "duration": 72,
    "start_time": "2024-12-17T13:01:37.824Z"
   },
   {
    "duration": 80,
    "start_time": "2024-12-17T13:02:02.541Z"
   },
   {
    "duration": 70,
    "start_time": "2024-12-17T13:04:59.005Z"
   },
   {
    "duration": 2567,
    "start_time": "2024-12-18T09:20:02.870Z"
   },
   {
    "duration": 222,
    "start_time": "2024-12-18T09:29:31.027Z"
   },
   {
    "duration": 14,
    "start_time": "2024-12-18T09:29:45.338Z"
   },
   {
    "duration": 874,
    "start_time": "2024-12-18T09:29:53.670Z"
   },
   {
    "duration": 309,
    "start_time": "2024-12-18T09:29:54.546Z"
   },
   {
    "duration": 65,
    "start_time": "2024-12-18T09:29:54.857Z"
   },
   {
    "duration": 4,
    "start_time": "2024-12-18T09:29:54.924Z"
   },
   {
    "duration": 931,
    "start_time": "2024-12-18T09:29:54.931Z"
   },
   {
    "duration": 846,
    "start_time": "2024-12-18T09:29:55.865Z"
   },
   {
    "duration": 977,
    "start_time": "2024-12-18T09:29:56.713Z"
   },
   {
    "duration": 626,
    "start_time": "2024-12-18T09:29:57.691Z"
   },
   {
    "duration": 669,
    "start_time": "2024-12-18T09:29:58.318Z"
   },
   {
    "duration": 585,
    "start_time": "2024-12-18T09:29:58.989Z"
   },
   {
    "duration": 634,
    "start_time": "2024-12-18T09:29:59.577Z"
   },
   {
    "duration": 8,
    "start_time": "2024-12-18T09:30:00.213Z"
   },
   {
    "duration": 20,
    "start_time": "2024-12-18T09:30:00.222Z"
   },
   {
    "duration": 13,
    "start_time": "2024-12-18T09:30:00.246Z"
   },
   {
    "duration": 6,
    "start_time": "2024-12-18T09:30:00.260Z"
   },
   {
    "duration": 0,
    "start_time": "2024-12-18T09:30:00.267Z"
   },
   {
    "duration": 12,
    "start_time": "2024-12-18T09:30:12.797Z"
   },
   {
    "duration": 73,
    "start_time": "2024-12-18T09:30:17.477Z"
   },
   {
    "duration": 8,
    "start_time": "2024-12-18T09:30:36.893Z"
   },
   {
    "duration": 229,
    "start_time": "2024-12-18T09:31:27.564Z"
   },
   {
    "duration": 22,
    "start_time": "2024-12-18T09:31:35.579Z"
   },
   {
    "duration": 189,
    "start_time": "2024-12-18T09:31:48.541Z"
   },
   {
    "duration": 987,
    "start_time": "2024-12-18T09:31:54.925Z"
   },
   {
    "duration": 5,
    "start_time": "2024-12-18T09:32:20.694Z"
   },
   {
    "duration": 16,
    "start_time": "2024-12-18T09:32:28.252Z"
   },
   {
    "duration": 17,
    "start_time": "2024-12-18T09:32:36.996Z"
   },
   {
    "duration": 17,
    "start_time": "2024-12-18T09:32:45.012Z"
   },
   {
    "duration": 16,
    "start_time": "2024-12-18T09:32:49.054Z"
   },
   {
    "duration": 247,
    "start_time": "2024-12-18T09:34:43.243Z"
   },
   {
    "duration": 5,
    "start_time": "2024-12-18T09:34:50.823Z"
   },
   {
    "duration": 7,
    "start_time": "2024-12-18T09:35:09.662Z"
   },
   {
    "duration": 188,
    "start_time": "2024-12-18T09:35:48.562Z"
   },
   {
    "duration": 1025,
    "start_time": "2024-12-18T09:36:04.707Z"
   },
   {
    "duration": 7,
    "start_time": "2024-12-18T09:36:44.174Z"
   },
   {
    "duration": 1126,
    "start_time": "2024-12-18T09:36:46.895Z"
   },
   {
    "duration": 187,
    "start_time": "2024-12-18T09:37:01.883Z"
   },
   {
    "duration": 324,
    "start_time": "2024-12-18T09:39:08.041Z"
   },
   {
    "duration": 31,
    "start_time": "2024-12-18T09:41:53.059Z"
   },
   {
    "duration": 5,
    "start_time": "2024-12-18T09:42:10.041Z"
   },
   {
    "duration": 191,
    "start_time": "2024-12-18T09:42:14.253Z"
   },
   {
    "duration": 193,
    "start_time": "2024-12-18T09:42:35.490Z"
   },
   {
    "duration": 189,
    "start_time": "2024-12-18T09:43:43.521Z"
   },
   {
    "duration": 189,
    "start_time": "2024-12-18T09:44:04.765Z"
   },
   {
    "duration": 330,
    "start_time": "2024-12-18T09:44:17.232Z"
   },
   {
    "duration": 45,
    "start_time": "2024-12-18T09:50:58.232Z"
   },
   {
    "duration": 16,
    "start_time": "2024-12-18T09:51:02.981Z"
   },
   {
    "duration": 47,
    "start_time": "2024-12-18T09:51:06.653Z"
   },
   {
    "duration": 45,
    "start_time": "2024-12-18T09:51:35.878Z"
   },
   {
    "duration": 6,
    "start_time": "2024-12-18T09:51:59.521Z"
   },
   {
    "duration": 3,
    "start_time": "2024-12-18T09:53:26.991Z"
   },
   {
    "duration": 191,
    "start_time": "2024-12-18T09:55:08.490Z"
   },
   {
    "duration": 17,
    "start_time": "2024-12-18T09:56:11.055Z"
   },
   {
    "duration": 15,
    "start_time": "2024-12-18T09:56:23.950Z"
   },
   {
    "duration": 4,
    "start_time": "2024-12-18T09:56:35.456Z"
   },
   {
    "duration": 4,
    "start_time": "2024-12-18T09:56:36.276Z"
   },
   {
    "duration": 208,
    "start_time": "2024-12-18T09:56:37.189Z"
   },
   {
    "duration": 186,
    "start_time": "2024-12-18T09:57:52.564Z"
   },
   {
    "duration": 200,
    "start_time": "2024-12-18T09:58:27.541Z"
   },
   {
    "duration": 193,
    "start_time": "2024-12-18T09:59:07.493Z"
   },
   {
    "duration": 1155,
    "start_time": "2024-12-18T10:09:01.042Z"
   },
   {
    "duration": 205,
    "start_time": "2024-12-18T10:09:34.954Z"
   },
   {
    "duration": 188,
    "start_time": "2024-12-18T10:09:48.439Z"
   },
   {
    "duration": 116,
    "start_time": "2024-12-18T10:10:27.505Z"
   },
   {
    "duration": 112,
    "start_time": "2024-12-18T10:10:38.664Z"
   },
   {
    "duration": 114,
    "start_time": "2024-12-18T10:10:53.737Z"
   },
   {
    "duration": 4,
    "start_time": "2024-12-18T10:11:42.794Z"
   },
   {
    "duration": 4,
    "start_time": "2024-12-18T10:11:50.396Z"
   },
   {
    "duration": 8,
    "start_time": "2024-12-18T10:12:02.041Z"
   },
   {
    "duration": 8,
    "start_time": "2024-12-18T10:12:04.656Z"
   },
   {
    "duration": 5,
    "start_time": "2024-12-18T10:12:22.809Z"
   },
   {
    "duration": 15,
    "start_time": "2024-12-18T10:12:49.226Z"
   },
   {
    "duration": 5,
    "start_time": "2024-12-18T10:12:54.704Z"
   },
   {
    "duration": 210,
    "start_time": "2024-12-18T10:14:53.311Z"
   },
   {
    "duration": 131,
    "start_time": "2024-12-18T10:15:02.777Z"
   },
   {
    "duration": 170,
    "start_time": "2024-12-18T10:15:09.751Z"
   },
   {
    "duration": 159,
    "start_time": "2024-12-18T10:16:50.112Z"
   },
   {
    "duration": 676,
    "start_time": "2024-12-18T10:16:54.722Z"
   },
   {
    "duration": 125,
    "start_time": "2024-12-18T10:17:35.512Z"
   },
   {
    "duration": 147,
    "start_time": "2024-12-18T10:17:49.496Z"
   },
   {
    "duration": 193,
    "start_time": "2024-12-18T10:18:01.711Z"
   },
   {
    "duration": 300,
    "start_time": "2024-12-18T10:18:09.869Z"
   },
   {
    "duration": 219,
    "start_time": "2024-12-18T10:18:17.117Z"
   },
   {
    "duration": 224,
    "start_time": "2024-12-18T10:18:26.951Z"
   },
   {
    "duration": 185,
    "start_time": "2024-12-18T10:19:51.926Z"
   },
   {
    "duration": 175,
    "start_time": "2024-12-18T10:20:26.094Z"
   },
   {
    "duration": 178,
    "start_time": "2024-12-18T10:21:14.478Z"
   },
   {
    "duration": 281,
    "start_time": "2024-12-18T10:21:48.630Z"
   },
   {
    "duration": 176,
    "start_time": "2024-12-18T10:22:13.550Z"
   },
   {
    "duration": 199,
    "start_time": "2024-12-18T10:22:25.300Z"
   },
   {
    "duration": 189,
    "start_time": "2024-12-18T10:23:06.697Z"
   },
   {
    "duration": 185,
    "start_time": "2024-12-18T10:23:23.630Z"
   },
   {
    "duration": 311,
    "start_time": "2024-12-18T10:23:51.803Z"
   },
   {
    "duration": 174,
    "start_time": "2024-12-18T10:24:03.598Z"
   },
   {
    "duration": 185,
    "start_time": "2024-12-18T10:24:50.365Z"
   },
   {
    "duration": 199,
    "start_time": "2024-12-18T10:25:23.629Z"
   },
   {
    "duration": 193,
    "start_time": "2024-12-18T10:26:00.317Z"
   },
   {
    "duration": 186,
    "start_time": "2024-12-18T10:26:18.397Z"
   },
   {
    "duration": 287,
    "start_time": "2024-12-18T10:26:37.939Z"
   },
   {
    "duration": 208,
    "start_time": "2024-12-18T10:26:47.628Z"
   },
   {
    "duration": 184,
    "start_time": "2024-12-18T10:27:30.196Z"
   },
   {
    "duration": 196,
    "start_time": "2024-12-18T10:28:03.831Z"
   },
   {
    "duration": 185,
    "start_time": "2024-12-18T10:28:16.670Z"
   },
   {
    "duration": 295,
    "start_time": "2024-12-18T10:28:45.900Z"
   },
   {
    "duration": 192,
    "start_time": "2024-12-18T10:29:00.020Z"
   },
   {
    "duration": 195,
    "start_time": "2024-12-18T10:29:23.308Z"
   },
   {
    "duration": 193,
    "start_time": "2024-12-18T10:29:36.126Z"
   },
   {
    "duration": 189,
    "start_time": "2024-12-18T10:30:24.859Z"
   },
   {
    "duration": 188,
    "start_time": "2024-12-18T10:30:36.349Z"
   },
   {
    "duration": 295,
    "start_time": "2024-12-18T10:34:23.123Z"
   },
   {
    "duration": 185,
    "start_time": "2024-12-18T10:34:32.659Z"
   },
   {
    "duration": 186,
    "start_time": "2024-12-18T10:34:51.354Z"
   },
   {
    "duration": 184,
    "start_time": "2024-12-18T10:36:08.332Z"
   },
   {
    "duration": 31,
    "start_time": "2024-12-18T11:05:29.186Z"
   },
   {
    "duration": 32,
    "start_time": "2024-12-18T11:05:45.185Z"
   },
   {
    "duration": 40,
    "start_time": "2024-12-18T11:06:05.049Z"
   },
   {
    "duration": 36,
    "start_time": "2024-12-18T11:06:10.064Z"
   },
   {
    "duration": 32,
    "start_time": "2024-12-18T11:06:44.543Z"
   },
   {
    "duration": 196,
    "start_time": "2024-12-18T11:07:29.655Z"
   },
   {
    "duration": 425,
    "start_time": "2024-12-18T11:09:03.033Z"
   },
   {
    "duration": 302,
    "start_time": "2024-12-18T11:09:30.593Z"
   },
   {
    "duration": 182,
    "start_time": "2024-12-18T11:10:51.792Z"
   },
   {
    "duration": 185,
    "start_time": "2024-12-18T11:11:20.751Z"
   },
   {
    "duration": 188,
    "start_time": "2024-12-18T11:11:31.815Z"
   },
   {
    "duration": 114,
    "start_time": "2024-12-18T11:12:11.887Z"
   },
   {
    "duration": 120,
    "start_time": "2024-12-18T11:12:27.359Z"
   },
   {
    "duration": 222,
    "start_time": "2024-12-18T11:13:31.879Z"
   },
   {
    "duration": 113,
    "start_time": "2024-12-18T11:14:23.766Z"
   },
   {
    "duration": 115,
    "start_time": "2024-12-18T11:15:02.353Z"
   },
   {
    "duration": 189,
    "start_time": "2024-12-18T11:15:41.982Z"
   },
   {
    "duration": 112,
    "start_time": "2024-12-18T11:28:24.323Z"
   },
   {
    "duration": 31,
    "start_time": "2024-12-18T11:30:12.035Z"
   },
   {
    "duration": 34,
    "start_time": "2024-12-18T11:31:33.218Z"
   },
   {
    "duration": 34,
    "start_time": "2024-12-18T11:31:39.218Z"
   },
   {
    "duration": 33,
    "start_time": "2024-12-18T11:31:43.631Z"
   },
   {
    "duration": 45,
    "start_time": "2024-12-18T11:32:07.650Z"
   },
   {
    "duration": 4,
    "start_time": "2024-12-18T11:32:11.617Z"
   },
   {
    "duration": 43,
    "start_time": "2024-12-18T11:32:17.121Z"
   },
   {
    "duration": 43,
    "start_time": "2024-12-18T11:32:33.421Z"
   },
   {
    "duration": 45,
    "start_time": "2024-12-18T11:32:51.168Z"
   },
   {
    "duration": 35,
    "start_time": "2024-12-18T11:33:40.166Z"
   },
   {
    "duration": 32,
    "start_time": "2024-12-18T11:33:49.088Z"
   },
   {
    "duration": 33,
    "start_time": "2024-12-18T11:35:02.088Z"
   },
   {
    "duration": 44,
    "start_time": "2024-12-18T11:35:43.176Z"
   },
   {
    "duration": 44,
    "start_time": "2024-12-18T11:35:53.673Z"
   },
   {
    "duration": 31,
    "start_time": "2024-12-18T11:36:56.616Z"
   },
   {
    "duration": 190,
    "start_time": "2024-12-18T11:38:10.551Z"
   },
   {
    "duration": 181,
    "start_time": "2024-12-18T11:38:31.390Z"
   },
   {
    "duration": 614,
    "start_time": "2024-12-18T11:39:24.401Z"
   },
   {
    "duration": 895,
    "start_time": "2024-12-18T11:41:16.996Z"
   },
   {
    "duration": 230,
    "start_time": "2024-12-18T11:41:17.893Z"
   },
   {
    "duration": 51,
    "start_time": "2024-12-18T11:41:18.125Z"
   },
   {
    "duration": 4,
    "start_time": "2024-12-18T11:41:18.179Z"
   },
   {
    "duration": 913,
    "start_time": "2024-12-18T11:41:18.209Z"
   },
   {
    "duration": 839,
    "start_time": "2024-12-18T11:41:19.124Z"
   },
   {
    "duration": 925,
    "start_time": "2024-12-18T11:41:19.964Z"
   },
   {
    "duration": 38,
    "start_time": "2024-12-18T11:41:20.892Z"
   },
   {
    "duration": 508,
    "start_time": "2024-12-18T11:41:20.932Z"
   },
   {
    "duration": 23,
    "start_time": "2024-12-18T11:49:53.270Z"
   },
   {
    "duration": 221,
    "start_time": "2024-12-18T11:53:45.864Z"
   },
   {
    "duration": 45,
    "start_time": "2024-12-18T11:53:55.918Z"
   },
   {
    "duration": 45,
    "start_time": "2024-12-18T11:54:09.566Z"
   },
   {
    "duration": 15,
    "start_time": "2024-12-18T11:54:17.796Z"
   },
   {
    "duration": 22,
    "start_time": "2024-12-18T11:54:35.134Z"
   },
   {
    "duration": 52,
    "start_time": "2024-12-18T11:56:34.823Z"
   },
   {
    "duration": 82,
    "start_time": "2024-12-18T11:57:23.149Z"
   },
   {
    "duration": 51,
    "start_time": "2024-12-18T11:59:23.789Z"
   },
   {
    "duration": 6,
    "start_time": "2024-12-18T12:01:45.275Z"
   },
   {
    "duration": 9,
    "start_time": "2024-12-18T12:01:55.747Z"
   },
   {
    "duration": 9,
    "start_time": "2024-12-18T12:01:59.981Z"
   },
   {
    "duration": 9,
    "start_time": "2024-12-18T12:02:04.093Z"
   },
   {
    "duration": 10,
    "start_time": "2024-12-18T12:02:12.107Z"
   },
   {
    "duration": 9,
    "start_time": "2024-12-18T12:02:20.176Z"
   },
   {
    "duration": 9,
    "start_time": "2024-12-18T12:02:27.949Z"
   },
   {
    "duration": 16,
    "start_time": "2024-12-18T12:02:37.155Z"
   },
   {
    "duration": 5,
    "start_time": "2024-12-18T12:03:11.243Z"
   },
   {
    "duration": 4,
    "start_time": "2024-12-18T12:04:14.605Z"
   },
   {
    "duration": 11,
    "start_time": "2024-12-18T12:04:30.250Z"
   },
   {
    "duration": 10,
    "start_time": "2024-12-18T12:04:43.275Z"
   },
   {
    "duration": 11,
    "start_time": "2024-12-18T12:05:22.762Z"
   },
   {
    "duration": 5,
    "start_time": "2024-12-18T12:05:40.252Z"
   },
   {
    "duration": 3,
    "start_time": "2024-12-18T12:05:43.954Z"
   },
   {
    "duration": 11,
    "start_time": "2024-12-18T12:05:47.045Z"
   },
   {
    "duration": 929,
    "start_time": "2024-12-18T12:06:25.538Z"
   },
   {
    "duration": 221,
    "start_time": "2024-12-18T12:06:26.470Z"
   },
   {
    "duration": 55,
    "start_time": "2024-12-18T12:06:26.692Z"
   },
   {
    "duration": 3,
    "start_time": "2024-12-18T12:06:26.749Z"
   },
   {
    "duration": 964,
    "start_time": "2024-12-18T12:06:26.755Z"
   },
   {
    "duration": 845,
    "start_time": "2024-12-18T12:06:27.721Z"
   },
   {
    "duration": 940,
    "start_time": "2024-12-18T12:06:28.568Z"
   },
   {
    "duration": 29,
    "start_time": "2024-12-18T12:06:29.510Z"
   },
   {
    "duration": 526,
    "start_time": "2024-12-18T12:06:29.541Z"
   },
   {
    "duration": 23,
    "start_time": "2024-12-18T12:06:30.070Z"
   },
   {
    "duration": 14,
    "start_time": "2024-12-18T12:06:30.095Z"
   },
   {
    "duration": 232,
    "start_time": "2024-12-18T12:06:30.111Z"
   },
   {
    "duration": 0,
    "start_time": "2024-12-18T12:06:30.345Z"
   },
   {
    "duration": 11,
    "start_time": "2024-12-18T12:08:52.587Z"
   },
   {
    "duration": 47,
    "start_time": "2024-12-18T12:10:10.972Z"
   },
   {
    "duration": 60,
    "start_time": "2024-12-18T12:10:24.696Z"
   },
   {
    "duration": 12,
    "start_time": "2024-12-18T12:11:15.229Z"
   },
   {
    "duration": 262,
    "start_time": "2024-12-18T12:12:04.734Z"
   },
   {
    "duration": 54,
    "start_time": "2024-12-18T12:12:38.796Z"
   },
   {
    "duration": 58,
    "start_time": "2024-12-18T12:12:53.386Z"
   },
   {
    "duration": 15,
    "start_time": "2024-12-18T12:15:32.778Z"
   },
   {
    "duration": 12,
    "start_time": "2024-12-18T12:15:37.569Z"
   },
   {
    "duration": 14,
    "start_time": "2024-12-18T12:16:27.283Z"
   },
   {
    "duration": 120,
    "start_time": "2024-12-18T12:16:37.090Z"
   },
   {
    "duration": 50,
    "start_time": "2024-12-18T12:34:23.661Z"
   },
   {
    "duration": 10,
    "start_time": "2024-12-18T12:34:34.916Z"
   },
   {
    "duration": 5,
    "start_time": "2024-12-18T12:36:25.766Z"
   },
   {
    "duration": 4,
    "start_time": "2024-12-18T12:38:54.378Z"
   },
   {
    "duration": 47,
    "start_time": "2024-12-18T12:39:20.047Z"
   },
   {
    "duration": 52,
    "start_time": "2024-12-18T12:39:51.923Z"
   },
   {
    "duration": 47,
    "start_time": "2024-12-18T12:40:23.346Z"
   },
   {
    "duration": 44,
    "start_time": "2024-12-18T12:40:42.090Z"
   },
   {
    "duration": 45,
    "start_time": "2024-12-18T12:41:41.931Z"
   },
   {
    "duration": 877,
    "start_time": "2024-12-18T12:41:48.357Z"
   },
   {
    "duration": 227,
    "start_time": "2024-12-18T12:41:49.236Z"
   },
   {
    "duration": 64,
    "start_time": "2024-12-18T12:41:49.465Z"
   },
   {
    "duration": 5,
    "start_time": "2024-12-18T12:41:49.532Z"
   },
   {
    "duration": 930,
    "start_time": "2024-12-18T12:41:49.540Z"
   },
   {
    "duration": 843,
    "start_time": "2024-12-18T12:41:50.472Z"
   },
   {
    "duration": 929,
    "start_time": "2024-12-18T12:41:51.317Z"
   },
   {
    "duration": 29,
    "start_time": "2024-12-18T12:41:52.248Z"
   },
   {
    "duration": 530,
    "start_time": "2024-12-18T12:41:52.279Z"
   },
   {
    "duration": 129,
    "start_time": "2024-12-18T12:41:52.811Z"
   },
   {
    "duration": 53,
    "start_time": "2024-12-18T12:41:52.942Z"
   },
   {
    "duration": 2598,
    "start_time": "2024-12-19T10:12:53.101Z"
   },
   {
    "duration": 293,
    "start_time": "2024-12-19T10:12:55.702Z"
   },
   {
    "duration": 52,
    "start_time": "2024-12-19T10:12:55.997Z"
   },
   {
    "duration": 4,
    "start_time": "2024-12-19T10:12:56.051Z"
   },
   {
    "duration": 867,
    "start_time": "2024-12-19T10:12:56.057Z"
   },
   {
    "duration": 884,
    "start_time": "2024-12-19T10:12:56.926Z"
   },
   {
    "duration": 936,
    "start_time": "2024-12-19T10:12:57.812Z"
   },
   {
    "duration": 32,
    "start_time": "2024-12-19T10:12:58.750Z"
   },
   {
    "duration": 521,
    "start_time": "2024-12-19T10:12:58.784Z"
   },
   {
    "duration": 135,
    "start_time": "2024-12-19T10:12:59.306Z"
   },
   {
    "duration": 55,
    "start_time": "2024-12-19T10:12:59.443Z"
   },
   {
    "duration": 3,
    "start_time": "2024-12-19T10:15:18.811Z"
   },
   {
    "duration": 31,
    "start_time": "2024-12-19T10:21:32.954Z"
   },
   {
    "duration": 598,
    "start_time": "2024-12-19T10:22:25.961Z"
   },
   {
    "duration": 230,
    "start_time": "2024-12-19T10:23:30.416Z"
   },
   {
    "duration": 38,
    "start_time": "2024-12-19T10:24:09.342Z"
   },
   {
    "duration": 36,
    "start_time": "2024-12-19T10:26:10.431Z"
   },
   {
    "duration": 10,
    "start_time": "2024-12-19T10:27:30.143Z"
   },
   {
    "duration": 31,
    "start_time": "2024-12-19T10:28:36.358Z"
   },
   {
    "duration": 7,
    "start_time": "2024-12-19T10:28:40.501Z"
   },
   {
    "duration": 25,
    "start_time": "2024-12-19T10:28:44.694Z"
   },
   {
    "duration": 25,
    "start_time": "2024-12-19T10:29:34.016Z"
   },
   {
    "duration": 10,
    "start_time": "2024-12-19T10:29:41.656Z"
   },
   {
    "duration": 15,
    "start_time": "2024-12-19T10:30:58.285Z"
   },
   {
    "duration": 14,
    "start_time": "2024-12-19T10:31:03.968Z"
   },
   {
    "duration": 4,
    "start_time": "2024-12-19T10:31:09.564Z"
   },
   {
    "duration": 12,
    "start_time": "2024-12-19T10:31:39.101Z"
   },
   {
    "duration": 12,
    "start_time": "2024-12-19T10:33:42.230Z"
   },
   {
    "duration": 10,
    "start_time": "2024-12-19T10:33:44.485Z"
   },
   {
    "duration": 11,
    "start_time": "2024-12-19T10:34:25.860Z"
   },
   {
    "duration": 13,
    "start_time": "2024-12-19T10:34:28.500Z"
   },
   {
    "duration": 11,
    "start_time": "2024-12-19T10:39:54.476Z"
   },
   {
    "duration": 11,
    "start_time": "2024-12-19T10:39:54.899Z"
   },
   {
    "duration": 9,
    "start_time": "2024-12-19T10:39:55.282Z"
   },
   {
    "duration": 7,
    "start_time": "2024-12-19T10:40:13.218Z"
   },
   {
    "duration": 22,
    "start_time": "2024-12-19T10:41:46.916Z"
   },
   {
    "duration": 23,
    "start_time": "2024-12-19T10:41:58.194Z"
   },
   {
    "duration": 21,
    "start_time": "2024-12-19T10:49:00.257Z"
   },
   {
    "duration": 8,
    "start_time": "2024-12-19T10:49:15.727Z"
   },
   {
    "duration": 119,
    "start_time": "2024-12-19T10:51:59.103Z"
   },
   {
    "duration": 43,
    "start_time": "2024-12-19T10:52:39.298Z"
   },
   {
    "duration": 6,
    "start_time": "2024-12-19T10:54:17.810Z"
   },
   {
    "duration": 4,
    "start_time": "2024-12-19T10:54:23.550Z"
   },
   {
    "duration": 3,
    "start_time": "2024-12-19T10:54:32.174Z"
   },
   {
    "duration": 4,
    "start_time": "2024-12-19T10:54:43.214Z"
   },
   {
    "duration": 13,
    "start_time": "2024-12-19T10:54:53.793Z"
   },
   {
    "duration": 4,
    "start_time": "2024-12-19T10:55:09.581Z"
   },
   {
    "duration": 4,
    "start_time": "2024-12-19T10:58:37.517Z"
   },
   {
    "duration": 876,
    "start_time": "2024-12-19T11:28:41.006Z"
   },
   {
    "duration": 221,
    "start_time": "2024-12-19T11:28:41.884Z"
   },
   {
    "duration": 51,
    "start_time": "2024-12-19T11:28:42.107Z"
   },
   {
    "duration": 4,
    "start_time": "2024-12-19T11:28:42.161Z"
   },
   {
    "duration": 943,
    "start_time": "2024-12-19T11:28:42.168Z"
   },
   {
    "duration": 841,
    "start_time": "2024-12-19T11:28:43.113Z"
   },
   {
    "duration": 952,
    "start_time": "2024-12-19T11:28:43.957Z"
   },
   {
    "duration": 29,
    "start_time": "2024-12-19T11:28:44.910Z"
   },
   {
    "duration": 523,
    "start_time": "2024-12-19T11:28:44.942Z"
   },
   {
    "duration": 131,
    "start_time": "2024-12-19T11:28:45.467Z"
   },
   {
    "duration": 38,
    "start_time": "2024-12-19T11:28:45.600Z"
   },
   {
    "duration": 76,
    "start_time": "2024-12-19T11:28:45.640Z"
   },
   {
    "duration": 3,
    "start_time": "2024-12-19T11:28:45.718Z"
   },
   {
    "duration": 933,
    "start_time": "2024-12-19T11:30:12.197Z"
   },
   {
    "duration": 6,
    "start_time": "2024-12-19T11:30:48.409Z"
   },
   {
    "duration": 4,
    "start_time": "2024-12-19T11:31:07.550Z"
   },
   {
    "duration": 3,
    "start_time": "2024-12-19T11:40:46.213Z"
   },
   {
    "duration": 3,
    "start_time": "2024-12-19T11:42:33.442Z"
   },
   {
    "duration": 4,
    "start_time": "2024-12-19T11:43:18.810Z"
   },
   {
    "duration": 4,
    "start_time": "2024-12-19T11:43:37.226Z"
   },
   {
    "duration": 229,
    "start_time": "2024-12-19T11:49:11.641Z"
   },
   {
    "duration": 4,
    "start_time": "2024-12-19T11:49:18.039Z"
   },
   {
    "duration": 15,
    "start_time": "2024-12-19T11:51:14.706Z"
   },
   {
    "duration": 5,
    "start_time": "2024-12-19T11:51:34.929Z"
   },
   {
    "duration": 15,
    "start_time": "2024-12-19T11:52:42.505Z"
   },
   {
    "duration": 7,
    "start_time": "2024-12-19T11:53:44.635Z"
   },
   {
    "duration": 7,
    "start_time": "2024-12-19T11:54:00.929Z"
   },
   {
    "duration": 5,
    "start_time": "2024-12-19T11:54:14.895Z"
   },
   {
    "duration": 3,
    "start_time": "2024-12-19T11:54:19.343Z"
   },
   {
    "duration": 6,
    "start_time": "2024-12-19T11:54:26.783Z"
   },
   {
    "duration": 11,
    "start_time": "2024-12-19T11:55:08.830Z"
   },
   {
    "duration": 18,
    "start_time": "2024-12-19T11:55:33.102Z"
   },
   {
    "duration": 16,
    "start_time": "2024-12-19T11:55:45.215Z"
   },
   {
    "duration": 14,
    "start_time": "2024-12-19T11:55:57.790Z"
   },
   {
    "duration": 14,
    "start_time": "2024-12-19T11:58:01.702Z"
   },
   {
    "duration": 14,
    "start_time": "2024-12-19T11:58:14.390Z"
   },
   {
    "duration": 12,
    "start_time": "2024-12-19T11:59:03.511Z"
   },
   {
    "duration": 13,
    "start_time": "2024-12-19T12:00:37.485Z"
   },
   {
    "duration": 9,
    "start_time": "2024-12-19T12:01:31.367Z"
   },
   {
    "duration": 8,
    "start_time": "2024-12-19T12:01:52.247Z"
   },
   {
    "duration": 116,
    "start_time": "2024-12-19T12:03:31.700Z"
   },
   {
    "duration": 114,
    "start_time": "2024-12-19T12:05:20.013Z"
   },
   {
    "duration": 4,
    "start_time": "2024-12-19T12:12:59.026Z"
   },
   {
    "duration": 4,
    "start_time": "2024-12-19T12:13:07.229Z"
   },
   {
    "duration": 4,
    "start_time": "2024-12-19T12:14:09.885Z"
   },
   {
    "duration": 3,
    "start_time": "2024-12-19T12:14:20.266Z"
   },
   {
    "duration": 4,
    "start_time": "2024-12-19T12:15:46.337Z"
   },
   {
    "duration": 15,
    "start_time": "2024-12-19T12:28:59.045Z"
   },
   {
    "duration": 17,
    "start_time": "2024-12-19T13:50:57.661Z"
   },
   {
    "duration": 3,
    "start_time": "2024-12-19T13:51:02.725Z"
   },
   {
    "duration": 222,
    "start_time": "2024-12-19T13:51:02.730Z"
   },
   {
    "duration": 63,
    "start_time": "2024-12-19T13:51:02.954Z"
   },
   {
    "duration": 5,
    "start_time": "2024-12-19T13:51:03.018Z"
   },
   {
    "duration": 924,
    "start_time": "2024-12-19T13:51:03.027Z"
   },
   {
    "duration": 863,
    "start_time": "2024-12-19T13:51:03.952Z"
   },
   {
    "duration": 839,
    "start_time": "2024-12-19T13:51:04.818Z"
   },
   {
    "duration": 29,
    "start_time": "2024-12-19T13:51:05.659Z"
   },
   {
    "duration": 607,
    "start_time": "2024-12-19T13:51:05.690Z"
   },
   {
    "duration": 127,
    "start_time": "2024-12-19T13:51:06.299Z"
   },
   {
    "duration": 28,
    "start_time": "2024-12-19T13:51:06.428Z"
   },
   {
    "duration": 162,
    "start_time": "2024-12-19T13:51:06.458Z"
   },
   {
    "duration": 4,
    "start_time": "2024-12-19T13:51:06.623Z"
   },
   {
    "duration": 81,
    "start_time": "2024-12-19T13:51:06.631Z"
   },
   {
    "duration": 115,
    "start_time": "2024-12-19T13:51:06.717Z"
   },
   {
    "duration": 77,
    "start_time": "2024-12-19T13:51:06.834Z"
   },
   {
    "duration": 15,
    "start_time": "2024-12-19T13:51:06.912Z"
   },
   {
    "duration": 15,
    "start_time": "2024-12-19T13:51:06.928Z"
   },
   {
    "duration": 16,
    "start_time": "2024-12-19T13:51:23.264Z"
   },
   {
    "duration": 34,
    "start_time": "2024-12-19T13:52:17.300Z"
   },
   {
    "duration": 47,
    "start_time": "2024-12-19T13:52:39.074Z"
   },
   {
    "duration": 4,
    "start_time": "2024-12-19T13:52:45.056Z"
   },
   {
    "duration": 4,
    "start_time": "2024-12-19T13:52:58.111Z"
   },
   {
    "duration": 14,
    "start_time": "2024-12-19T13:54:56.352Z"
   },
   {
    "duration": 14,
    "start_time": "2024-12-19T13:56:28.967Z"
   },
   {
    "duration": 189,
    "start_time": "2024-12-19T13:56:46.030Z"
   },
   {
    "duration": 404,
    "start_time": "2024-12-19T13:57:26.735Z"
   },
   {
    "duration": 185,
    "start_time": "2024-12-19T13:57:28.726Z"
   },
   {
    "duration": 4,
    "start_time": "2024-12-19T14:01:34.494Z"
   },
   {
    "duration": 6,
    "start_time": "2024-12-19T14:04:04.707Z"
   },
   {
    "duration": 424,
    "start_time": "2024-12-19T14:04:17.462Z"
   },
   {
    "duration": 289,
    "start_time": "2024-12-19T14:04:27.291Z"
   },
   {
    "duration": 5,
    "start_time": "2024-12-19T14:04:31.948Z"
   },
   {
    "duration": 401,
    "start_time": "2024-12-19T14:04:39.076Z"
   },
   {
    "duration": 195,
    "start_time": "2024-12-19T14:04:44.755Z"
   },
   {
    "duration": 4,
    "start_time": "2024-12-19T14:04:51.842Z"
   },
   {
    "duration": 406,
    "start_time": "2024-12-19T14:05:44.846Z"
   },
   {
    "duration": 404,
    "start_time": "2024-12-19T14:05:46.219Z"
   },
   {
    "duration": 3,
    "start_time": "2024-12-19T14:05:53.508Z"
   },
   {
    "duration": 405,
    "start_time": "2024-12-19T14:06:06.260Z"
   },
   {
    "duration": 416,
    "start_time": "2024-12-19T14:06:07.388Z"
   },
   {
    "duration": 206,
    "start_time": "2024-12-19T14:06:07.907Z"
   },
   {
    "duration": 4,
    "start_time": "2024-12-19T14:06:08.699Z"
   },
   {
    "duration": 420,
    "start_time": "2024-12-19T14:07:39.915Z"
   },
   {
    "duration": 189,
    "start_time": "2024-12-19T14:07:44.346Z"
   },
   {
    "duration": 4,
    "start_time": "2024-12-19T14:07:48.025Z"
   },
   {
    "duration": 406,
    "start_time": "2024-12-19T14:08:14.203Z"
   },
   {
    "duration": 399,
    "start_time": "2024-12-19T14:08:33.483Z"
   },
   {
    "duration": 183,
    "start_time": "2024-12-19T14:08:35.099Z"
   },
   {
    "duration": 4,
    "start_time": "2024-12-19T14:08:35.963Z"
   },
   {
    "duration": 403,
    "start_time": "2024-12-19T14:08:51.210Z"
   },
   {
    "duration": 4,
    "start_time": "2024-12-19T14:08:55.284Z"
   },
   {
    "duration": 430,
    "start_time": "2024-12-19T14:09:07.490Z"
   },
   {
    "duration": 190,
    "start_time": "2024-12-19T14:09:08.419Z"
   },
   {
    "duration": 5,
    "start_time": "2024-12-19T14:09:09.282Z"
   },
   {
    "duration": 410,
    "start_time": "2024-12-19T14:09:30.409Z"
   },
   {
    "duration": 278,
    "start_time": "2024-12-19T14:09:31.379Z"
   },
   {
    "duration": 4,
    "start_time": "2024-12-19T14:09:31.866Z"
   },
   {
    "duration": 405,
    "start_time": "2024-12-19T14:11:03.194Z"
   },
   {
    "duration": 182,
    "start_time": "2024-12-19T14:11:05.392Z"
   },
   {
    "duration": 4,
    "start_time": "2024-12-19T14:11:06.526Z"
   },
   {
    "duration": 16,
    "start_time": "2024-12-19T14:13:03.445Z"
   },
   {
    "duration": 15,
    "start_time": "2024-12-19T14:13:10.632Z"
   },
   {
    "duration": 15,
    "start_time": "2024-12-19T14:13:20.774Z"
   },
   {
    "duration": 8,
    "start_time": "2024-12-19T14:13:52.697Z"
   },
   {
    "duration": 4,
    "start_time": "2024-12-19T14:14:31.129Z"
   },
   {
    "duration": 4,
    "start_time": "2024-12-19T14:14:40.632Z"
   },
   {
    "duration": 15,
    "start_time": "2024-12-19T14:16:04.945Z"
   },
   {
    "duration": 1205,
    "start_time": "2024-12-19T14:16:09.577Z"
   },
   {
    "duration": 599,
    "start_time": "2024-12-19T14:16:10.785Z"
   },
   {
    "duration": 4,
    "start_time": "2024-12-19T14:23:00.130Z"
   },
   {
    "duration": 100,
    "start_time": "2024-12-19T14:23:20.654Z"
   },
   {
    "duration": 6,
    "start_time": "2024-12-19T14:24:15.701Z"
   },
   {
    "duration": 5,
    "start_time": "2024-12-19T14:25:05.414Z"
   },
   {
    "duration": 6,
    "start_time": "2024-12-19T14:25:18.792Z"
   },
   {
    "duration": 18,
    "start_time": "2024-12-19T14:26:25.636Z"
   },
   {
    "duration": 6,
    "start_time": "2024-12-19T14:27:34.739Z"
   },
   {
    "duration": 4,
    "start_time": "2024-12-19T14:28:28.251Z"
   },
   {
    "duration": 5,
    "start_time": "2024-12-19T14:28:51.116Z"
   },
   {
    "duration": 4,
    "start_time": "2024-12-19T14:29:02.396Z"
   },
   {
    "duration": 4,
    "start_time": "2024-12-19T14:29:57.667Z"
   },
   {
    "duration": 4,
    "start_time": "2024-12-19T14:30:06.002Z"
   },
   {
    "duration": 5,
    "start_time": "2024-12-19T14:31:18.588Z"
   },
   {
    "duration": 19,
    "start_time": "2024-12-19T14:32:18.818Z"
   },
   {
    "duration": 6,
    "start_time": "2024-12-19T14:32:32.418Z"
   },
   {
    "duration": 6,
    "start_time": "2024-12-19T14:32:46.675Z"
   },
   {
    "duration": 6,
    "start_time": "2024-12-19T14:33:08.473Z"
   },
   {
    "duration": 6,
    "start_time": "2024-12-19T14:33:35.347Z"
   },
   {
    "duration": 7,
    "start_time": "2024-12-19T14:33:38.771Z"
   },
   {
    "duration": 7,
    "start_time": "2024-12-19T14:34:15.074Z"
   },
   {
    "duration": 4,
    "start_time": "2024-12-19T14:34:35.034Z"
   },
   {
    "duration": 5,
    "start_time": "2024-12-19T14:34:58.288Z"
   },
   {
    "duration": 930,
    "start_time": "2024-12-19T14:41:55.036Z"
   },
   {
    "duration": 229,
    "start_time": "2024-12-19T14:41:55.968Z"
   },
   {
    "duration": 54,
    "start_time": "2024-12-19T14:41:56.198Z"
   },
   {
    "duration": 4,
    "start_time": "2024-12-19T14:41:56.254Z"
   },
   {
    "duration": 952,
    "start_time": "2024-12-19T14:41:56.260Z"
   },
   {
    "duration": 893,
    "start_time": "2024-12-19T14:41:57.214Z"
   },
   {
    "duration": 921,
    "start_time": "2024-12-19T14:41:58.109Z"
   },
   {
    "duration": 30,
    "start_time": "2024-12-19T14:41:59.032Z"
   },
   {
    "duration": 526,
    "start_time": "2024-12-19T14:41:59.064Z"
   },
   {
    "duration": 126,
    "start_time": "2024-12-19T14:41:59.592Z"
   },
   {
    "duration": 31,
    "start_time": "2024-12-19T14:41:59.720Z"
   },
   {
    "duration": 74,
    "start_time": "2024-12-19T14:41:59.752Z"
   },
   {
    "duration": 4,
    "start_time": "2024-12-19T14:41:59.828Z"
   },
   {
    "duration": 6,
    "start_time": "2024-12-19T14:41:59.911Z"
   },
   {
    "duration": 195,
    "start_time": "2024-12-19T14:41:59.920Z"
   },
   {
    "duration": 4,
    "start_time": "2024-12-19T14:42:00.117Z"
   },
   {
    "duration": 868,
    "start_time": "2024-12-19T14:42:00.123Z"
   },
   {
    "duration": 651,
    "start_time": "2024-12-19T14:42:00.993Z"
   },
   {
    "duration": 6,
    "start_time": "2024-12-19T14:42:01.646Z"
   },
   {
    "duration": 560,
    "start_time": "2024-12-19T14:43:32.499Z"
   },
   {
    "duration": 3,
    "start_time": "2024-12-19T14:44:28.633Z"
   },
   {
    "duration": 1504,
    "start_time": "2024-12-19T14:44:29.376Z"
   },
   {
    "duration": 6,
    "start_time": "2024-12-19T14:44:37.430Z"
   },
   {
    "duration": 2685,
    "start_time": "2024-12-20T02:07:41.330Z"
   },
   {
    "duration": 305,
    "start_time": "2024-12-20T02:07:44.018Z"
   },
   {
    "duration": 53,
    "start_time": "2024-12-20T02:07:44.324Z"
   },
   {
    "duration": 5,
    "start_time": "2024-12-20T02:07:44.379Z"
   },
   {
    "duration": 930,
    "start_time": "2024-12-20T02:07:44.408Z"
   },
   {
    "duration": 847,
    "start_time": "2024-12-20T02:07:45.340Z"
   },
   {
    "duration": 878,
    "start_time": "2024-12-20T02:07:46.188Z"
   },
   {
    "duration": 41,
    "start_time": "2024-12-20T02:07:47.068Z"
   },
   {
    "duration": 638,
    "start_time": "2024-12-20T02:07:47.111Z"
   },
   {
    "duration": 131,
    "start_time": "2024-12-20T02:07:47.750Z"
   },
   {
    "duration": 41,
    "start_time": "2024-12-20T02:07:47.883Z"
   },
   {
    "duration": 86,
    "start_time": "2024-12-20T02:07:47.926Z"
   },
   {
    "duration": 3,
    "start_time": "2024-12-20T02:07:48.014Z"
   },
   {
    "duration": 3,
    "start_time": "2024-12-20T02:07:48.020Z"
   },
   {
    "duration": 198,
    "start_time": "2024-12-20T02:07:48.025Z"
   },
   {
    "duration": 4,
    "start_time": "2024-12-20T02:07:48.225Z"
   },
   {
    "duration": 3,
    "start_time": "2024-12-20T02:07:48.230Z"
   },
   {
    "duration": 1449,
    "start_time": "2024-12-20T02:07:48.235Z"
   },
   {
    "duration": 6,
    "start_time": "2024-12-20T02:07:49.686Z"
   },
   {
    "duration": 3,
    "start_time": "2024-12-20T03:20:55.946Z"
   },
   {
    "duration": 306,
    "start_time": "2024-12-20T03:38:05.951Z"
   },
   {
    "duration": 22,
    "start_time": "2024-12-20T03:38:36.357Z"
   },
   {
    "duration": 192,
    "start_time": "2024-12-20T03:38:42.500Z"
   },
   {
    "duration": 17,
    "start_time": "2024-12-20T03:39:08.313Z"
   },
   {
    "duration": 187,
    "start_time": "2024-12-20T03:39:50.540Z"
   },
   {
    "duration": 208,
    "start_time": "2024-12-20T03:40:05.796Z"
   },
   {
    "duration": 217,
    "start_time": "2024-12-20T03:40:29.894Z"
   },
   {
    "duration": 4,
    "start_time": "2024-12-20T03:47:56.364Z"
   },
   {
    "duration": 6,
    "start_time": "2024-12-20T03:48:11.251Z"
   },
   {
    "duration": 7,
    "start_time": "2024-12-20T03:48:46.081Z"
   },
   {
    "duration": 5,
    "start_time": "2024-12-20T03:54:11.367Z"
   },
   {
    "duration": 17,
    "start_time": "2024-12-20T03:54:28.270Z"
   },
   {
    "duration": 30,
    "start_time": "2024-12-20T03:54:48.807Z"
   },
   {
    "duration": 30,
    "start_time": "2024-12-20T03:54:57.102Z"
   },
   {
    "duration": 4,
    "start_time": "2024-12-20T03:55:10.106Z"
   },
   {
    "duration": 30,
    "start_time": "2024-12-20T03:55:12.054Z"
   },
   {
    "duration": 30,
    "start_time": "2024-12-20T04:03:01.258Z"
   },
   {
    "duration": 6,
    "start_time": "2024-12-20T04:13:20.421Z"
   },
   {
    "duration": 7,
    "start_time": "2024-12-20T04:30:15.953Z"
   },
   {
    "duration": 1497,
    "start_time": "2024-12-20T04:32:45.711Z"
   },
   {
    "duration": 11,
    "start_time": "2024-12-20T04:32:47.214Z"
   },
   {
    "duration": 5,
    "start_time": "2024-12-20T04:34:02.064Z"
   },
   {
    "duration": 5,
    "start_time": "2024-12-20T04:37:36.324Z"
   },
   {
    "duration": 30,
    "start_time": "2024-12-20T04:37:55.400Z"
   },
   {
    "duration": 3,
    "start_time": "2024-12-20T04:39:13.719Z"
   },
   {
    "duration": 1540,
    "start_time": "2024-12-20T04:39:35.919Z"
   },
   {
    "duration": 6,
    "start_time": "2024-12-20T04:40:29.022Z"
   },
   {
    "duration": 1453,
    "start_time": "2024-12-20T04:40:56.638Z"
   },
   {
    "duration": 6,
    "start_time": "2024-12-20T04:40:59.783Z"
   },
   {
    "duration": 4,
    "start_time": "2024-12-20T04:42:55.306Z"
   },
   {
    "duration": 4,
    "start_time": "2024-12-20T04:42:59.694Z"
   },
   {
    "duration": 4,
    "start_time": "2024-12-20T04:43:10.974Z"
   },
   {
    "duration": 3,
    "start_time": "2024-12-20T04:43:37.383Z"
   },
   {
    "duration": 4,
    "start_time": "2024-12-20T04:43:44.180Z"
   },
   {
    "duration": 14,
    "start_time": "2024-12-20T04:43:58.245Z"
   },
   {
    "duration": 9,
    "start_time": "2024-12-20T04:44:10.456Z"
   },
   {
    "duration": 10,
    "start_time": "2024-12-20T04:44:16.725Z"
   },
   {
    "duration": 10,
    "start_time": "2024-12-20T04:45:47.508Z"
   },
   {
    "duration": 15,
    "start_time": "2024-12-20T04:45:52.460Z"
   },
   {
    "duration": 4,
    "start_time": "2024-12-20T04:46:02.837Z"
   },
   {
    "duration": 4,
    "start_time": "2024-12-20T04:46:08.404Z"
   },
   {
    "duration": 875,
    "start_time": "2024-12-20T05:44:54.408Z"
   },
   {
    "duration": 227,
    "start_time": "2024-12-20T05:44:55.285Z"
   },
   {
    "duration": 52,
    "start_time": "2024-12-20T05:44:55.514Z"
   },
   {
    "duration": 4,
    "start_time": "2024-12-20T05:44:55.568Z"
   },
   {
    "duration": 945,
    "start_time": "2024-12-20T05:44:55.575Z"
   },
   {
    "duration": 883,
    "start_time": "2024-12-20T05:44:56.522Z"
   },
   {
    "duration": 956,
    "start_time": "2024-12-20T05:44:57.409Z"
   },
   {
    "duration": 45,
    "start_time": "2024-12-20T05:44:58.367Z"
   },
   {
    "duration": 507,
    "start_time": "2024-12-20T05:44:58.414Z"
   },
   {
    "duration": 128,
    "start_time": "2024-12-20T05:44:58.923Z"
   },
   {
    "duration": 35,
    "start_time": "2024-12-20T05:44:59.053Z"
   },
   {
    "duration": 44,
    "start_time": "2024-12-20T05:44:59.090Z"
   },
   {
    "duration": 4,
    "start_time": "2024-12-20T05:44:59.209Z"
   },
   {
    "duration": 7,
    "start_time": "2024-12-20T05:44:59.216Z"
   },
   {
    "duration": 12,
    "start_time": "2024-12-20T05:44:59.225Z"
   },
   {
    "duration": 185,
    "start_time": "2024-12-20T05:44:59.239Z"
   },
   {
    "duration": 6,
    "start_time": "2024-12-20T05:44:59.426Z"
   },
   {
    "duration": 30,
    "start_time": "2024-12-20T05:44:59.434Z"
   },
   {
    "duration": 3,
    "start_time": "2024-12-20T05:44:59.466Z"
   },
   {
    "duration": 1525,
    "start_time": "2024-12-20T05:44:59.509Z"
   },
   {
    "duration": 6,
    "start_time": "2024-12-20T05:45:01.036Z"
   },
   {
    "duration": 1422,
    "start_time": "2024-12-20T05:45:01.043Z"
   },
   {
    "duration": 6,
    "start_time": "2024-12-20T05:45:02.467Z"
   },
   {
    "duration": 3,
    "start_time": "2024-12-20T05:45:02.475Z"
   },
   {
    "duration": 1518,
    "start_time": "2024-12-20T05:45:02.479Z"
   },
   {
    "duration": 12,
    "start_time": "2024-12-20T05:45:03.999Z"
   },
   {
    "duration": 3,
    "start_time": "2024-12-20T05:46:02.857Z"
   },
   {
    "duration": 3,
    "start_time": "2024-12-20T05:47:09.802Z"
   },
   {
    "duration": 796,
    "start_time": "2024-12-20T05:47:10.106Z"
   },
   {
    "duration": 571,
    "start_time": "2024-12-20T05:47:20.641Z"
   },
   {
    "duration": 575,
    "start_time": "2024-12-20T05:47:40.641Z"
   },
   {
    "duration": 567,
    "start_time": "2024-12-20T05:47:45.419Z"
   },
   {
    "duration": 6,
    "start_time": "2024-12-20T05:47:55.850Z"
   },
   {
    "duration": 614,
    "start_time": "2024-12-20T05:48:47.267Z"
   },
   {
    "duration": 572,
    "start_time": "2024-12-20T05:48:53.169Z"
   },
   {
    "duration": 942,
    "start_time": "2024-12-20T05:49:00.177Z"
   },
   {
    "duration": 643,
    "start_time": "2024-12-20T05:49:24.513Z"
   },
   {
    "duration": 1345,
    "start_time": "2024-12-20T05:51:09.395Z"
   },
   {
    "duration": 4,
    "start_time": "2024-12-20T05:51:33.103Z"
   },
   {
    "duration": 576,
    "start_time": "2024-12-20T05:52:00.002Z"
   },
   {
    "duration": 3,
    "start_time": "2024-12-20T05:52:25.488Z"
   },
   {
    "duration": 5,
    "start_time": "2024-12-20T05:52:38.905Z"
   },
   {
    "duration": 14,
    "start_time": "2024-12-20T05:52:57.880Z"
   },
   {
    "duration": 15,
    "start_time": "2024-12-20T05:53:06.501Z"
   },
   {
    "duration": 15,
    "start_time": "2024-12-20T05:53:12.756Z"
   },
   {
    "duration": 3,
    "start_time": "2024-12-20T05:53:41.499Z"
   },
   {
    "duration": 66,
    "start_time": "2024-12-20T05:53:42.167Z"
   },
   {
    "duration": 4,
    "start_time": "2024-12-20T05:54:07.434Z"
   },
   {
    "duration": 84,
    "start_time": "2024-12-20T05:54:09.384Z"
   },
   {
    "duration": 81,
    "start_time": "2024-12-20T05:54:44.295Z"
   },
   {
    "duration": 83,
    "start_time": "2024-12-20T05:54:58.804Z"
   },
   {
    "duration": 3,
    "start_time": "2024-12-20T05:55:43.990Z"
   },
   {
    "duration": 85,
    "start_time": "2024-12-20T05:55:44.471Z"
   },
   {
    "duration": 3,
    "start_time": "2024-12-20T05:56:12.999Z"
   },
   {
    "duration": 22,
    "start_time": "2024-12-20T05:56:14.975Z"
   },
   {
    "duration": 4,
    "start_time": "2024-12-20T05:56:50.379Z"
   },
   {
    "duration": 30,
    "start_time": "2024-12-20T05:56:51.245Z"
   },
   {
    "duration": 31,
    "start_time": "2024-12-20T05:57:55.614Z"
   },
   {
    "duration": 14,
    "start_time": "2024-12-20T06:17:09.681Z"
   },
   {
    "duration": 28,
    "start_time": "2024-12-20T06:17:18.903Z"
   },
   {
    "duration": 10,
    "start_time": "2024-12-20T06:17:39.319Z"
   },
   {
    "duration": 16,
    "start_time": "2024-12-20T06:17:49.567Z"
   },
   {
    "duration": 15,
    "start_time": "2024-12-20T06:18:07.867Z"
   },
   {
    "duration": 15,
    "start_time": "2024-12-20T06:19:10.618Z"
   },
   {
    "duration": 15,
    "start_time": "2024-12-20T06:19:17.880Z"
   },
   {
    "duration": 15,
    "start_time": "2024-12-20T06:20:09.214Z"
   },
   {
    "duration": 25,
    "start_time": "2024-12-20T06:20:21.909Z"
   },
   {
    "duration": 19,
    "start_time": "2024-12-20T06:20:31.038Z"
   },
   {
    "duration": 25,
    "start_time": "2024-12-20T06:20:39.317Z"
   },
   {
    "duration": 25,
    "start_time": "2024-12-20T06:21:57.910Z"
   },
   {
    "duration": 5,
    "start_time": "2024-12-20T06:22:55.646Z"
   },
   {
    "duration": 3,
    "start_time": "2024-12-20T06:23:22.883Z"
   },
   {
    "duration": 24,
    "start_time": "2024-12-20T06:23:42.837Z"
   },
   {
    "duration": 17,
    "start_time": "2024-12-20T06:23:59.718Z"
   },
   {
    "duration": 30,
    "start_time": "2024-12-20T06:24:29.188Z"
   },
   {
    "duration": 25,
    "start_time": "2024-12-20T06:24:53.768Z"
   },
   {
    "duration": 30,
    "start_time": "2024-12-20T06:26:16.436Z"
   },
   {
    "duration": 4,
    "start_time": "2024-12-20T06:28:37.509Z"
   },
   {
    "duration": 16,
    "start_time": "2024-12-20T06:28:55.098Z"
   },
   {
    "duration": 3,
    "start_time": "2024-12-20T06:29:54.467Z"
   },
   {
    "duration": 15,
    "start_time": "2024-12-20T06:29:58.490Z"
   },
   {
    "duration": 16,
    "start_time": "2024-12-20T06:30:11.411Z"
   },
   {
    "duration": 4,
    "start_time": "2024-12-20T06:30:47.779Z"
   },
   {
    "duration": 31,
    "start_time": "2024-12-20T06:30:48.882Z"
   },
   {
    "duration": 25,
    "start_time": "2024-12-20T06:30:49.332Z"
   },
   {
    "duration": 30,
    "start_time": "2024-12-20T06:30:49.675Z"
   },
   {
    "duration": 16,
    "start_time": "2024-12-20T06:31:00.346Z"
   },
   {
    "duration": 15,
    "start_time": "2024-12-20T06:31:00.714Z"
   },
   {
    "duration": 903,
    "start_time": "2024-12-20T07:30:28.718Z"
   },
   {
    "duration": 235,
    "start_time": "2024-12-20T07:30:29.623Z"
   },
   {
    "duration": 67,
    "start_time": "2024-12-20T07:30:29.860Z"
   },
   {
    "duration": 4,
    "start_time": "2024-12-20T07:30:29.929Z"
   },
   {
    "duration": 929,
    "start_time": "2024-12-20T07:30:29.936Z"
   },
   {
    "duration": 843,
    "start_time": "2024-12-20T07:30:30.867Z"
   },
   {
    "duration": 933,
    "start_time": "2024-12-20T07:30:31.713Z"
   },
   {
    "duration": 30,
    "start_time": "2024-12-20T07:30:32.648Z"
   },
   {
    "duration": 511,
    "start_time": "2024-12-20T07:30:32.680Z"
   },
   {
    "duration": 129,
    "start_time": "2024-12-20T07:30:33.193Z"
   },
   {
    "duration": 32,
    "start_time": "2024-12-20T07:30:33.325Z"
   },
   {
    "duration": 63,
    "start_time": "2024-12-20T07:30:33.359Z"
   },
   {
    "duration": 7,
    "start_time": "2024-12-20T07:30:33.424Z"
   },
   {
    "duration": 5,
    "start_time": "2024-12-20T07:30:33.515Z"
   },
   {
    "duration": 7,
    "start_time": "2024-12-20T07:30:33.522Z"
   },
   {
    "duration": 187,
    "start_time": "2024-12-20T07:30:33.530Z"
   },
   {
    "duration": 5,
    "start_time": "2024-12-20T07:30:33.719Z"
   },
   {
    "duration": 30,
    "start_time": "2024-12-20T07:30:33.725Z"
   },
   {
    "duration": 3,
    "start_time": "2024-12-20T07:30:33.757Z"
   },
   {
    "duration": 1511,
    "start_time": "2024-12-20T07:30:33.762Z"
   },
   {
    "duration": 5,
    "start_time": "2024-12-20T07:30:35.276Z"
   },
   {
    "duration": 1453,
    "start_time": "2024-12-20T07:30:35.283Z"
   },
   {
    "duration": 6,
    "start_time": "2024-12-20T07:30:36.738Z"
   },
   {
    "duration": 4,
    "start_time": "2024-12-20T07:30:36.746Z"
   },
   {
    "duration": 31,
    "start_time": "2024-12-20T07:30:36.751Z"
   },
   {
    "duration": 48,
    "start_time": "2024-12-20T07:30:36.783Z"
   },
   {
    "duration": 29,
    "start_time": "2024-12-20T07:30:36.833Z"
   },
   {
    "duration": 16,
    "start_time": "2024-12-20T07:30:36.864Z"
   },
   {
    "duration": 39,
    "start_time": "2024-12-20T07:30:36.882Z"
   },
   {
    "duration": 14,
    "start_time": "2024-12-20T07:30:36.923Z"
   },
   {
    "duration": 14,
    "start_time": "2024-12-20T07:30:36.938Z"
   },
   {
    "duration": 24,
    "start_time": "2024-12-20T07:30:36.953Z"
   },
   {
    "duration": 19,
    "start_time": "2024-12-20T07:30:37.009Z"
   },
   {
    "duration": 23,
    "start_time": "2024-12-20T07:30:37.030Z"
   },
   {
    "duration": 4,
    "start_time": "2024-12-20T07:30:37.054Z"
   },
   {
    "duration": 300,
    "start_time": "2024-12-20T07:30:37.059Z"
   },
   {
    "duration": 0,
    "start_time": "2024-12-20T07:30:37.361Z"
   },
   {
    "duration": 16,
    "start_time": "2024-12-20T07:39:59.321Z"
   },
   {
    "duration": 34,
    "start_time": "2024-12-20T07:45:53.517Z"
   },
   {
    "duration": 25,
    "start_time": "2024-12-20T07:45:58.935Z"
   },
   {
    "duration": 30,
    "start_time": "2024-12-20T07:53:21.140Z"
   },
   {
    "duration": 32,
    "start_time": "2024-12-20T07:59:05.514Z"
   },
   {
    "duration": 623,
    "start_time": "2024-12-20T08:06:46.713Z"
   },
   {
    "duration": 607,
    "start_time": "2024-12-20T08:06:57.072Z"
   },
   {
    "duration": 586,
    "start_time": "2024-12-20T08:08:05.750Z"
   },
   {
    "duration": 575,
    "start_time": "2024-12-20T08:12:39.422Z"
   },
   {
    "duration": 575,
    "start_time": "2024-12-20T08:13:03.962Z"
   },
   {
    "duration": 3,
    "start_time": "2024-12-20T08:13:41.165Z"
   },
   {
    "duration": 570,
    "start_time": "2024-12-20T08:13:41.655Z"
   },
   {
    "duration": 579,
    "start_time": "2024-12-20T08:13:42.275Z"
   },
   {
    "duration": 3,
    "start_time": "2024-12-20T08:13:52.940Z"
   },
   {
    "duration": 16,
    "start_time": "2024-12-20T08:15:27.453Z"
   },
   {
    "duration": 16,
    "start_time": "2024-12-20T08:16:02.940Z"
   },
   {
    "duration": 4,
    "start_time": "2024-12-20T08:18:34.397Z"
   },
   {
    "duration": 601,
    "start_time": "2024-12-20T08:18:34.802Z"
   },
   {
    "duration": 586,
    "start_time": "2024-12-20T08:18:49.651Z"
   },
   {
    "duration": 587,
    "start_time": "2024-12-20T08:21:06.348Z"
   },
   {
    "duration": 579,
    "start_time": "2024-12-20T08:23:10.765Z"
   },
   {
    "duration": 573,
    "start_time": "2024-12-20T08:23:50.641Z"
   },
   {
    "duration": 120,
    "start_time": "2024-12-20T08:26:33.088Z"
   },
   {
    "duration": 36,
    "start_time": "2024-12-20T08:27:13.298Z"
   },
   {
    "duration": 4,
    "start_time": "2024-12-20T08:27:33.648Z"
   },
   {
    "duration": 37,
    "start_time": "2024-12-20T08:27:40.519Z"
   },
   {
    "duration": 4,
    "start_time": "2024-12-20T08:29:10.504Z"
   },
   {
    "duration": 3031,
    "start_time": "2024-12-20T08:33:39.837Z"
   },
   {
    "duration": 3,
    "start_time": "2024-12-20T08:34:15.299Z"
   },
   {
    "duration": 278,
    "start_time": "2024-12-20T08:34:49.820Z"
   },
   {
    "duration": 577,
    "start_time": "2024-12-20T08:36:12.589Z"
   },
   {
    "duration": 280,
    "start_time": "2024-12-20T08:37:15.852Z"
   },
   {
    "duration": 5,
    "start_time": "2024-12-20T08:38:17.316Z"
   },
   {
    "duration": 3,
    "start_time": "2024-12-20T08:38:55.539Z"
   },
   {
    "duration": 571,
    "start_time": "2024-12-20T08:39:36.492Z"
   },
   {
    "duration": 308,
    "start_time": "2024-12-20T08:39:37.065Z"
   },
   {
    "duration": 3,
    "start_time": "2024-12-20T08:40:02.003Z"
   },
   {
    "duration": 568,
    "start_time": "2024-12-20T08:40:08.676Z"
   },
   {
    "duration": 278,
    "start_time": "2024-12-20T08:40:09.643Z"
   },
   {
    "duration": 584,
    "start_time": "2024-12-20T08:43:08.013Z"
   },
   {
    "duration": 584,
    "start_time": "2024-12-20T08:46:37.477Z"
   },
   {
    "duration": 235,
    "start_time": "2024-12-20T09:01:34.002Z"
   },
   {
    "duration": 236,
    "start_time": "2024-12-20T09:04:03.091Z"
   },
   {
    "duration": 246,
    "start_time": "2024-12-20T09:04:30.939Z"
   },
   {
    "duration": 247,
    "start_time": "2024-12-20T09:04:47.412Z"
   },
   {
    "duration": 231,
    "start_time": "2024-12-20T09:07:02.554Z"
   },
   {
    "duration": 792,
    "start_time": "2024-12-20T09:07:42.740Z"
   },
   {
    "duration": 806,
    "start_time": "2024-12-20T09:07:47.068Z"
   },
   {
    "duration": 102,
    "start_time": "2024-12-20T09:09:10.580Z"
   },
   {
    "duration": 7,
    "start_time": "2024-12-20T09:09:29.480Z"
   },
   {
    "duration": 8,
    "start_time": "2024-12-20T09:10:06.757Z"
   },
   {
    "duration": 369,
    "start_time": "2024-12-20T09:10:38.660Z"
   },
   {
    "duration": 232,
    "start_time": "2024-12-20T09:11:45.424Z"
   },
   {
    "duration": 6,
    "start_time": "2024-12-20T09:12:10.310Z"
   },
   {
    "duration": 16,
    "start_time": "2024-12-20T09:12:34.766Z"
   },
   {
    "duration": 7,
    "start_time": "2024-12-20T09:12:44.792Z"
   },
   {
    "duration": 35,
    "start_time": "2024-12-20T09:13:29.984Z"
   },
   {
    "duration": 42,
    "start_time": "2024-12-20T09:14:05.352Z"
   },
   {
    "duration": 28,
    "start_time": "2024-12-20T09:14:13.360Z"
   },
   {
    "duration": 6,
    "start_time": "2024-12-20T09:19:55.053Z"
   },
   {
    "duration": 6,
    "start_time": "2024-12-20T09:20:00.173Z"
   },
   {
    "duration": 6,
    "start_time": "2024-12-20T09:20:04.526Z"
   },
   {
    "duration": 700,
    "start_time": "2024-12-20T09:33:29.042Z"
   },
   {
    "duration": 1498,
    "start_time": "2024-12-20T09:35:22.520Z"
   },
   {
    "duration": 6,
    "start_time": "2024-12-20T09:35:47.355Z"
   },
   {
    "duration": 689,
    "start_time": "2024-12-20T09:38:15.936Z"
   },
   {
    "duration": 790,
    "start_time": "2024-12-20T09:42:34.959Z"
   },
   {
    "duration": 909,
    "start_time": "2024-12-20T09:47:22.434Z"
   },
   {
    "duration": 220,
    "start_time": "2024-12-20T09:47:23.345Z"
   },
   {
    "duration": 60,
    "start_time": "2024-12-20T09:47:23.567Z"
   },
   {
    "duration": 4,
    "start_time": "2024-12-20T09:47:23.629Z"
   },
   {
    "duration": 921,
    "start_time": "2024-12-20T09:47:23.635Z"
   },
   {
    "duration": 841,
    "start_time": "2024-12-20T09:47:24.558Z"
   },
   {
    "duration": 934,
    "start_time": "2024-12-20T09:47:25.401Z"
   },
   {
    "duration": 29,
    "start_time": "2024-12-20T09:47:26.337Z"
   },
   {
    "duration": 518,
    "start_time": "2024-12-20T09:47:26.368Z"
   },
   {
    "duration": 123,
    "start_time": "2024-12-20T09:47:26.889Z"
   },
   {
    "duration": 32,
    "start_time": "2024-12-20T09:47:27.014Z"
   },
   {
    "duration": 75,
    "start_time": "2024-12-20T09:47:27.048Z"
   },
   {
    "duration": 4,
    "start_time": "2024-12-20T09:47:27.124Z"
   },
   {
    "duration": 81,
    "start_time": "2024-12-20T09:47:27.129Z"
   },
   {
    "duration": 10,
    "start_time": "2024-12-20T09:47:27.212Z"
   },
   {
    "duration": 116,
    "start_time": "2024-12-20T09:47:27.224Z"
   },
   {
    "duration": 72,
    "start_time": "2024-12-20T09:47:27.342Z"
   },
   {
    "duration": 30,
    "start_time": "2024-12-20T09:47:27.416Z"
   },
   {
    "duration": 3,
    "start_time": "2024-12-20T09:47:27.448Z"
   },
   {
    "duration": 1528,
    "start_time": "2024-12-20T09:47:27.453Z"
   },
   {
    "duration": 6,
    "start_time": "2024-12-20T09:47:28.982Z"
   },
   {
    "duration": 1432,
    "start_time": "2024-12-20T09:47:28.990Z"
   },
   {
    "duration": 233,
    "start_time": "2024-12-20T09:47:30.424Z"
   },
   {
    "duration": 0,
    "start_time": "2024-12-20T09:47:30.659Z"
   },
   {
    "duration": 6,
    "start_time": "2024-12-20T09:47:53.834Z"
   },
   {
    "duration": 808,
    "start_time": "2024-12-20T09:47:56.609Z"
   },
   {
    "duration": 889,
    "start_time": "2024-12-20T11:11:43.690Z"
   },
   {
    "duration": 235,
    "start_time": "2024-12-20T11:11:44.582Z"
   },
   {
    "duration": 53,
    "start_time": "2024-12-20T11:11:44.819Z"
   },
   {
    "duration": 4,
    "start_time": "2024-12-20T11:11:44.873Z"
   },
   {
    "duration": 907,
    "start_time": "2024-12-20T11:11:44.909Z"
   },
   {
    "duration": 842,
    "start_time": "2024-12-20T11:11:45.818Z"
   },
   {
    "duration": 977,
    "start_time": "2024-12-20T11:11:46.662Z"
   },
   {
    "duration": 30,
    "start_time": "2024-12-20T11:11:47.640Z"
   },
   {
    "duration": 521,
    "start_time": "2024-12-20T11:11:47.672Z"
   },
   {
    "duration": 128,
    "start_time": "2024-12-20T11:11:48.195Z"
   },
   {
    "duration": 34,
    "start_time": "2024-12-20T11:11:48.325Z"
   },
   {
    "duration": 64,
    "start_time": "2024-12-20T11:11:48.361Z"
   },
   {
    "duration": 4,
    "start_time": "2024-12-20T11:11:48.427Z"
   },
   {
    "duration": 5,
    "start_time": "2024-12-20T11:11:48.510Z"
   },
   {
    "duration": 10,
    "start_time": "2024-12-20T11:11:48.517Z"
   },
   {
    "duration": 181,
    "start_time": "2024-12-20T11:11:48.528Z"
   },
   {
    "duration": 5,
    "start_time": "2024-12-20T11:11:48.711Z"
   },
   {
    "duration": 30,
    "start_time": "2024-12-20T11:11:48.718Z"
   },
   {
    "duration": 3,
    "start_time": "2024-12-20T11:11:48.749Z"
   },
   {
    "duration": 1494,
    "start_time": "2024-12-20T11:11:48.753Z"
   },
   {
    "duration": 5,
    "start_time": "2024-12-20T11:11:50.249Z"
   },
   {
    "duration": 1431,
    "start_time": "2024-12-20T11:11:50.256Z"
   },
   {
    "duration": 5,
    "start_time": "2024-12-20T11:11:51.689Z"
   },
   {
    "duration": 775,
    "start_time": "2024-12-20T11:11:51.708Z"
   }
  ],
  "kernelspec": {
   "display_name": "Python 3 (ipykernel)",
   "language": "python",
   "name": "python3"
  },
  "language_info": {
   "codemirror_mode": {
    "name": "ipython",
    "version": 3
   },
   "file_extension": ".py",
   "mimetype": "text/x-python",
   "name": "python",
   "nbconvert_exporter": "python",
   "pygments_lexer": "ipython3",
   "version": "3.9.19"
  },
  "toc": {
   "base_numbering": 1,
   "nav_menu": {},
   "number_sections": true,
   "sideBar": true,
   "skip_h1_title": true,
   "title_cell": "Table of Contents",
   "title_sidebar": "Contents",
   "toc_cell": false,
   "toc_position": {},
   "toc_section_display": true,
   "toc_window_display": false
  }
 },
 "nbformat": 4,
 "nbformat_minor": 2
}
